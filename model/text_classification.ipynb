{
 "cells": [
  {
   "cell_type": "markdown",
   "id": "26ce84a5",
   "metadata": {},
   "source": [
    "# MCMF Text Classification"
   ]
  },
  {
   "cell_type": "markdown",
   "id": "d164604d",
   "metadata": {},
   "source": [
    "## Load Packages"
   ]
  },
  {
   "cell_type": "code",
   "execution_count": 1,
   "id": "b3fab77a",
   "metadata": {},
   "outputs": [],
   "source": [
    "# import libraries\n",
    "import warnings\n",
    "warnings.filterwarnings('ignore')\n",
    "\n",
    "import pandas as pd\n",
    "import numpy as np\n",
    "import matplotlib.pyplot as plt\n",
    "\n",
    "# text pre-processing\n",
    "import re, string\n",
    "import nltk\n",
    "from nltk.tokenize import word_tokenize\n",
    "from nltk.corpus import stopwords\n",
    "from nltk.stem import PorterStemmer\n",
    "from collections import Counter\n",
    "# nltk.download('punkt')\n",
    "# nltk.download('stopwords')\n",
    "# nltk.download('omw-1.4')\n",
    "\n",
    "# model-building\n",
    "from sklearn.model_selection import train_test_split\n",
    "from sklearn.feature_extraction.text import TfidfVectorizer\n",
    "from sklearn.linear_model import LogisticRegression\n",
    "from sklearn.naive_bayes import MultinomialNB\n",
    "from sklearn.ensemble import RandomForestClassifier, StackingClassifier\n",
    "from sklearn.svm import LinearSVC\n",
    "from sklearn.neighbors import KNeighborsClassifier\n",
    "from sklearn.model_selection import GridSearchCV, StratifiedKFold, cross_val_score\n",
    "from sklearn.metrics import f1_score, accuracy_score, precision_score, recall_score, roc_auc_score, hamming_loss"
   ]
  },
  {
   "cell_type": "markdown",
   "id": "d6bbdef5",
   "metadata": {},
   "source": [
    "## Load Data"
   ]
  },
  {
   "cell_type": "markdown",
   "id": "ecd368c3",
   "metadata": {},
   "source": [
    "I did my initial data cleaning of the raw dataset in R and saved it as a CSV file. I did the following to clean the data:\n",
    "* Selected out unnecessary variables\n",
    "* Grouped the original 22 categories to 4 broader categories\n",
    "* Got rid of duplicate observations\n",
    "* Took out observations with multiple categories\n",
    "* Took out observations with Spanish descriptinos\n",
    "\n",
    "The code for the initial data cleaning can be found in [`cleaning/model_cleaning.R`](https://github.com/emmayu18/MCMF-project/blob/main/cleaning/model_cleaning.R)"
   ]
  },
  {
   "cell_type": "code",
   "execution_count": 13,
   "id": "d61acc4f",
   "metadata": {},
   "outputs": [
    {
     "data": {
      "text/html": [
       "<div>\n",
       "<style scoped>\n",
       "    .dataframe tbody tr th:only-of-type {\n",
       "        vertical-align: middle;\n",
       "    }\n",
       "\n",
       "    .dataframe tbody tr th {\n",
       "        vertical-align: top;\n",
       "    }\n",
       "\n",
       "    .dataframe thead th {\n",
       "        text-align: right;\n",
       "    }\n",
       "</style>\n",
       "<table border=\"1\" class=\"dataframe\">\n",
       "  <thead>\n",
       "    <tr style=\"text-align: right;\">\n",
       "      <th></th>\n",
       "      <th>program_name</th>\n",
       "      <th>description</th>\n",
       "      <th>category</th>\n",
       "    </tr>\n",
       "  </thead>\n",
       "  <tbody>\n",
       "    <tr>\n",
       "      <th>0</th>\n",
       "      <td>STEM Academy</td>\n",
       "      <td>&lt;p&gt;&lt;strong&gt;The UIC – CHANCE STEM Academy Progr...</td>\n",
       "      <td>Professional Skill Building</td>\n",
       "    </tr>\n",
       "    <tr>\n",
       "      <th>1</th>\n",
       "      <td>CHANCE - Digital Scholars Program</td>\n",
       "      <td>&lt;p&gt;This &lt;strong&gt;5-Week Virtual Summer Program&lt;...</td>\n",
       "      <td>Professional Skill Building</td>\n",
       "    </tr>\n",
       "    <tr>\n",
       "      <th>2</th>\n",
       "      <td>Future Leaders in Business</td>\n",
       "      <td>&lt;p&gt;The &lt;strong&gt;UIC Future Leaders in Business ...</td>\n",
       "      <td>Professional Skill Building</td>\n",
       "    </tr>\n",
       "    <tr>\n",
       "      <th>3</th>\n",
       "      <td>Divas Code Virtual Meetup</td>\n",
       "      <td>&lt;p&gt;Our weekly virtual office hours are an to g...</td>\n",
       "      <td>Professional Skill Building</td>\n",
       "    </tr>\n",
       "    <tr>\n",
       "      <th>4</th>\n",
       "      <td>Divas Office Hours</td>\n",
       "      <td>&lt;p&gt;Our weekly virtual office hours are an to g...</td>\n",
       "      <td>Professional Skill Building</td>\n",
       "    </tr>\n",
       "    <tr>\n",
       "      <th>...</th>\n",
       "      <td>...</td>\n",
       "      <td>...</td>\n",
       "      <td>...</td>\n",
       "    </tr>\n",
       "    <tr>\n",
       "      <th>20221</th>\n",
       "      <td>Spring Break STEM Camp</td>\n",
       "      <td>&lt;p&gt;Project Exploration creates transformative ...</td>\n",
       "      <td>Academics</td>\n",
       "    </tr>\n",
       "    <tr>\n",
       "      <th>20222</th>\n",
       "      <td>The Art Institute of Chicago Ryan Learning Cen...</td>\n",
       "      <td>The Art Exchange in the Ryan Learning Center (...</td>\n",
       "      <td>Leisure and Arts</td>\n",
       "    </tr>\n",
       "    <tr>\n",
       "      <th>20223</th>\n",
       "      <td>ILA Match Apprenticeship</td>\n",
       "      <td>&lt;p&gt;Are you between the ages of 12-14 and have ...</td>\n",
       "      <td>Leisure and Arts</td>\n",
       "    </tr>\n",
       "    <tr>\n",
       "      <th>20224</th>\n",
       "      <td>Student WEB CORPS 2023</td>\n",
       "      <td>&lt;p&gt;Student WEB CORPS is a 6-week program, from...</td>\n",
       "      <td>Professional Skill Building</td>\n",
       "    </tr>\n",
       "    <tr>\n",
       "      <th>20225</th>\n",
       "      <td>Summer Coding at UChicago</td>\n",
       "      <td>&lt;p&gt;Hey there, students!&lt;/p&gt;&lt;p&gt;Are you ready to...</td>\n",
       "      <td>Professional Skill Building</td>\n",
       "    </tr>\n",
       "  </tbody>\n",
       "</table>\n",
       "<p>20226 rows × 3 columns</p>\n",
       "</div>"
      ],
      "text/plain": [
       "                                            program_name  \\\n",
       "0                                           STEM Academy   \n",
       "1                      CHANCE - Digital Scholars Program   \n",
       "2                             Future Leaders in Business   \n",
       "3                              Divas Code Virtual Meetup   \n",
       "4                                     Divas Office Hours   \n",
       "...                                                  ...   \n",
       "20221                             Spring Break STEM Camp   \n",
       "20222  The Art Institute of Chicago Ryan Learning Cen...   \n",
       "20223                           ILA Match Apprenticeship   \n",
       "20224                             Student WEB CORPS 2023   \n",
       "20225                          Summer Coding at UChicago   \n",
       "\n",
       "                                             description  \\\n",
       "0      <p><strong>The UIC – CHANCE STEM Academy Progr...   \n",
       "1      <p>This <strong>5-Week Virtual Summer Program<...   \n",
       "2      <p>The <strong>UIC Future Leaders in Business ...   \n",
       "3      <p>Our weekly virtual office hours are an to g...   \n",
       "4      <p>Our weekly virtual office hours are an to g...   \n",
       "...                                                  ...   \n",
       "20221  <p>Project Exploration creates transformative ...   \n",
       "20222  The Art Exchange in the Ryan Learning Center (...   \n",
       "20223  <p>Are you between the ages of 12-14 and have ...   \n",
       "20224  <p>Student WEB CORPS is a 6-week program, from...   \n",
       "20225  <p>Hey there, students!</p><p>Are you ready to...   \n",
       "\n",
       "                          category  \n",
       "0      Professional Skill Building  \n",
       "1      Professional Skill Building  \n",
       "2      Professional Skill Building  \n",
       "3      Professional Skill Building  \n",
       "4      Professional Skill Building  \n",
       "...                            ...  \n",
       "20221                    Academics  \n",
       "20222             Leisure and Arts  \n",
       "20223             Leisure and Arts  \n",
       "20224  Professional Skill Building  \n",
       "20225  Professional Skill Building  \n",
       "\n",
       "[20226 rows x 3 columns]"
      ]
     },
     "execution_count": 13,
     "metadata": {},
     "output_type": "execute_result"
    }
   ],
   "source": [
    "# cleaned data from cleaning/model_clean.R\n",
    "dat = pd.read_csv(\"../data/wrangle/text_classify.csv\")\n",
    "dat = dat.drop([\"index\", \"Unnamed: 0\"], axis = 1)\n",
    "dat"
   ]
  },
  {
   "cell_type": "code",
   "execution_count": 149,
   "id": "74433cc0",
   "metadata": {},
   "outputs": [
    {
     "data": {
      "image/png": "[encoded data removed]",
      "text/plain": [
       "<Figure size 432x288 with 1 Axes>"
      ]
     },
     "metadata": {
      "needs_background": "light"
     },
     "output_type": "display_data"
    }
   ],
   "source": [
    "x = dat[\"category\"].value_counts()\n",
    "\n",
    "plt.bar(x.index, x)\n",
    "plt.xlabel('Categories')\n",
    "plt.tick_params(axis='x', labelsize=7.5)\n",
    "plt.ylabel('Count')\n",
    "plt.show()"
   ]
  },
  {
   "cell_type": "markdown",
   "id": "d3b463f6",
   "metadata": {},
   "source": [
    "There is a big imbalance in the outcome variable so I will be stratifying the test/train data by category and using stratified K-fold during grid search. I will also be using the macro averaging method for my performance metrics."
   ]
  },
  {
   "cell_type": "markdown",
   "id": "cf466e77",
   "metadata": {},
   "source": [
    "## Text Pre-Processing"
   ]
  },
  {
   "cell_type": "markdown",
   "id": "bcce4e23",
   "metadata": {},
   "source": [
    "Text pre-processing steps:\n",
    "* Turned all characters to lowercase\n",
    "* Stripped strings of leading and trailing spaces\n",
    "* Removed HTML tags, HTML entities, and URL links\n",
    "* Removed punctuation, numbers, and special characters\n",
    "* Removed all words with less than 3 characters\n",
    "* Converted all spaces to single-space\n",
    "* Removed stop words\n",
    "* Stemmed words\n",
    "* Removed stop words again after stemming\n",
    "* Removed 30 most frequently used words"
   ]
  },
  {
   "cell_type": "code",
   "execution_count": 14,
   "id": "9b3021cb",
   "metadata": {},
   "outputs": [],
   "source": [
    "# text conversion\n",
    "def clean_text(text):\n",
    "    # lower strings\n",
    "    text = text.lower()\n",
    "    # strip\n",
    "    text = text.strip()\n",
    "    # remove html tags\n",
    "    text = re.sub(\"<.*?>\", \" \", text)\n",
    "    # remove html entities\n",
    "    text = re.sub(\"&.*?;\", \" \", text)\n",
    "    # remove URL links\n",
    "    text = re.sub(\"https?:\\/\\/(www\\.)?[-a-zA-Z0-9@:%._\\+~#=]{1,256}\\.[a-zA-Z0-9()]{1,6}\\b([-a-zA-Z0-9()@:%_\\+.~#?&//=]*)\", \" \", text)\n",
    "    text = re.sub(\"www(?:[a-zA-Z]|[0-9]|[$-_@.&+]|[!*\\\\(\\\\),]|(?:%[0-9a-fA-F][0-9a-fA-F]))+\", \" \", text)\n",
    "    # remove punctuation, numbers, and special characters\n",
    "    text = re.sub(\"[^a-zA-Z\\\\s]\", \" \", text)\n",
    "    # remove all words with nchar <= 2\n",
    "    text = re.sub(r'\\b\\w{1,2}\\b', \" \", text)\n",
    "    # remove words that start with \"zoom\"\n",
    "    text = re.sub(\"zoom\\w+\", \" \", text)\n",
    "    # remove words that start with \"zoom\"\n",
    "    text = re.sub(\"accessibility\\w+\", \" \", text)\n",
    "    # all spaces to singlespace \n",
    "    text = re.sub('\\s+', ' ', text)  \n",
    "    return text\n",
    "\n",
    "# stop word removal\n",
    "custom_stopwords = stopwords.words('english')\n",
    "custom_stopwords.extend([\"event\", \"chicago\", \"please\", \"program\", \"camp\", \"tbd\", \"tba\",\"internship\", \"illinois\", \n",
    "                         \"zoom\",\"january\", \"february\", \"march\", \"april\", \"may\", \"june\", \"july\", \"august\", \n",
    "                         \"september\", \"october\", \"november\", \"december\", \"monday\", \"tuesday\", \"wednesday\", \"thursday\",\n",
    "                         \"friday\", \"saturday\", \"sunday\", \"sun\", \"mon\", \"tue\", \"wed\", \"thu\", \"fri\", \"sat\"])\n",
    "custom_stopwords = [re.sub(\"[^a-zA-Z\\\\s]\", \"\", text) for text in custom_stopwords]\n",
    "\n",
    "def remove_stopword(string):\n",
    "    a = [i for i in string.split() if i not in custom_stopwords]\n",
    "    return ' '.join(a)\n",
    "\n",
    "# stemming\n",
    "ps = PorterStemmer()\n",
    "\n",
    "def stemmer(string):\n",
    "    tokens = word_tokenize(string)\n",
    "    a = [ps.stem(word) for word in tokens]\n",
    "    return \" \".join(a)\n",
    "\n",
    "# final function\n",
    "def finalpreprocess(string):\n",
    "    return remove_stopword(stemmer(remove_stopword(clean_text(string))))\n",
    "dat['clean_text'] = dat['description'].apply(lambda x: finalpreprocess(x))"
   ]
  },
  {
   "cell_type": "code",
   "execution_count": 15,
   "id": "f5498c24",
   "metadata": {},
   "outputs": [
    {
     "data": {
      "text/html": [
       "<div>\n",
       "<style scoped>\n",
       "    .dataframe tbody tr th:only-of-type {\n",
       "        vertical-align: middle;\n",
       "    }\n",
       "\n",
       "    .dataframe tbody tr th {\n",
       "        vertical-align: top;\n",
       "    }\n",
       "\n",
       "    .dataframe thead th {\n",
       "        text-align: right;\n",
       "    }\n",
       "</style>\n",
       "<table border=\"1\" class=\"dataframe\">\n",
       "  <thead>\n",
       "    <tr style=\"text-align: right;\">\n",
       "      <th></th>\n",
       "      <th>program_name</th>\n",
       "      <th>description</th>\n",
       "      <th>category</th>\n",
       "      <th>clean_text</th>\n",
       "    </tr>\n",
       "  </thead>\n",
       "  <tbody>\n",
       "    <tr>\n",
       "      <th>0</th>\n",
       "      <td>STEM Academy</td>\n",
       "      <td>&lt;p&gt;&lt;strong&gt;The UIC – CHANCE STEM Academy Progr...</td>\n",
       "      <td>Professional Skill Building</td>\n",
       "      <td>uic chanc stem academi five week academ intens...</td>\n",
       "    </tr>\n",
       "    <tr>\n",
       "      <th>1</th>\n",
       "      <td>CHANCE - Digital Scholars Program</td>\n",
       "      <td>&lt;p&gt;This &lt;strong&gt;5-Week Virtual Summer Program&lt;...</td>\n",
       "      <td>Professional Skill Building</td>\n",
       "      <td>week virtual summer afford high school sophomo...</td>\n",
       "    </tr>\n",
       "    <tr>\n",
       "      <th>2</th>\n",
       "      <td>Future Leaders in Business</td>\n",
       "      <td>&lt;p&gt;The &lt;strong&gt;UIC Future Leaders in Business ...</td>\n",
       "      <td>Professional Skill Building</td>\n",
       "      <td>uic futur leader busi free summer partnership ...</td>\n",
       "    </tr>\n",
       "    <tr>\n",
       "      <th>3</th>\n",
       "      <td>Divas Code Virtual Meetup</td>\n",
       "      <td>&lt;p&gt;Our weekly virtual office hours are an to g...</td>\n",
       "      <td>Professional Skill Building</td>\n",
       "      <td>weekli virtual offic hour get feedback support...</td>\n",
       "    </tr>\n",
       "    <tr>\n",
       "      <th>4</th>\n",
       "      <td>Divas Office Hours</td>\n",
       "      <td>&lt;p&gt;Our weekly virtual office hours are an to g...</td>\n",
       "      <td>Professional Skill Building</td>\n",
       "      <td>weekli virtual offic hour get feedback support...</td>\n",
       "    </tr>\n",
       "  </tbody>\n",
       "</table>\n",
       "</div>"
      ],
      "text/plain": [
       "                        program_name  \\\n",
       "0                       STEM Academy   \n",
       "1  CHANCE - Digital Scholars Program   \n",
       "2         Future Leaders in Business   \n",
       "3          Divas Code Virtual Meetup   \n",
       "4                 Divas Office Hours   \n",
       "\n",
       "                                         description  \\\n",
       "0  <p><strong>The UIC – CHANCE STEM Academy Progr...   \n",
       "1  <p>This <strong>5-Week Virtual Summer Program<...   \n",
       "2  <p>The <strong>UIC Future Leaders in Business ...   \n",
       "3  <p>Our weekly virtual office hours are an to g...   \n",
       "4  <p>Our weekly virtual office hours are an to g...   \n",
       "\n",
       "                      category  \\\n",
       "0  Professional Skill Building   \n",
       "1  Professional Skill Building   \n",
       "2  Professional Skill Building   \n",
       "3  Professional Skill Building   \n",
       "4  Professional Skill Building   \n",
       "\n",
       "                                          clean_text  \n",
       "0  uic chanc stem academi five week academ intens...  \n",
       "1  week virtual summer afford high school sophomo...  \n",
       "2  uic futur leader busi free summer partnership ...  \n",
       "3  weekli virtual offic hour get feedback support...  \n",
       "4  weekli virtual offic hour get feedback support...  "
      ]
     },
     "execution_count": 15,
     "metadata": {},
     "output_type": "execute_result"
    }
   ],
   "source": [
    "# remove frequent words\n",
    "cnt = Counter()\n",
    "for text in dat[\"clean_text\"].values:\n",
    "    for word in text.split():\n",
    "        cnt[word] += 1\n",
    "\n",
    "freq_words = set([w for (w, wc) in cnt.most_common(30)])\n",
    "def remove_freqwords(text):\n",
    "    return \" \".join([word for word in str(text).split() if word not in freq_words])\n",
    "dat['clean_text'] = dat['clean_text'].apply(lambda x: remove_freqwords(x))\n",
    "\n",
    "dat.head()"
   ]
  },
  {
   "cell_type": "markdown",
   "id": "2e684d33",
   "metadata": {},
   "source": [
    "## Split Data"
   ]
  },
  {
   "cell_type": "code",
   "execution_count": 16,
   "id": "3cd92434",
   "metadata": {},
   "outputs": [],
   "source": [
    "# split predictor and outcome variables\n",
    "y = dat[\"category\"]\n",
    "X = dat[\"clean_text\"]\n",
    "\n",
    "# split training and testing data\n",
    "X_train, X_test, y_train, y_test = train_test_split(X, \n",
    "                                                    y, \n",
    "                                                    test_size=0.2, \n",
    "                                                    stratify = y, \n",
    "                                                    shuffle=True,\n",
    "                                                    random_state = 42)"
   ]
  },
  {
   "cell_type": "markdown",
   "id": "41b79c88",
   "metadata": {},
   "source": [
    "## Convert to TF-IDF Matrix"
   ]
  },
  {
   "cell_type": "code",
   "execution_count": 17,
   "id": "0ea31945",
   "metadata": {},
   "outputs": [],
   "source": [
    "tfidf_vectorizer = TfidfVectorizer(use_idf=True, max_features = 5000)\n",
    "X_train_tfidf = tfidf_vectorizer.fit_transform(X_train) \n",
    "X_test_tfidf = tfidf_vectorizer.transform(X_test)"
   ]
  },
  {
   "cell_type": "markdown",
   "id": "36619a08",
   "metadata": {},
   "source": [
    "## Models and Grid Search"
   ]
  },
  {
   "cell_type": "markdown",
   "id": "2e9fe87c",
   "metadata": {},
   "source": [
    "### Logistic Regression"
   ]
  },
  {
   "cell_type": "code",
   "execution_count": 4,
   "id": "638f0eb6",
   "metadata": {},
   "outputs": [
    {
     "name": "stdout",
     "output_type": "stream",
     "text": [
      "Best parameters:  {'C': 10}\n",
      "Best score:  0.869283065512979\n"
     ]
    }
   ],
   "source": [
    "lr = LogisticRegression()\n",
    "lr_grid = {\"C\": [10, 1.0, 0.1, 0.01]}\n",
    "\n",
    "lr_grid_search = GridSearchCV(estimator = lr, \n",
    "                              param_grid = lr_grid, \n",
    "                              scoring = \"accuracy\", \n",
    "                              cv = StratifiedKFold())\n",
    "lr_grid_search = lr_grid_search.fit(X_train_tfidf, y_train)\n",
    "lr.set_params(**lr_grid_search.best_params_)\n",
    "\n",
    "print(\"Best parameters: \", lr_grid_search.best_params_)\n",
    "print(\"Best score: \", lr_grid_search.best_score_)"
   ]
  },
  {
   "cell_type": "markdown",
   "id": "51d3fde3",
   "metadata": {},
   "source": [
    "### Multinomal Naive-Bayes"
   ]
  },
  {
   "cell_type": "code",
   "execution_count": 5,
   "id": "6158b998",
   "metadata": {},
   "outputs": [
    {
     "name": "stdout",
     "output_type": "stream",
     "text": [
      "Best parameters:  {'alpha': 0.001}\n",
      "Best score:  0.8299752781211372\n"
     ]
    }
   ],
   "source": [
    "nb = MultinomialNB()\n",
    "nb_grid = {\"alpha\": [0.0001, 0.001, 0.1, 1, 10, 100]}\n",
    "\n",
    "nb_grid_search = GridSearchCV(estimator = nb, \n",
    "                              param_grid = nb_grid, \n",
    "                              scoring = \"accuracy\", \n",
    "                              cv = StratifiedKFold())\n",
    "nb_grid_search = nb_grid_search.fit(X_train_tfidf, y_train)\n",
    "nb.set_params(**nb_grid_search.best_params_)\n",
    "\n",
    "print(\"Best parameters: \", nb_grid_search.best_params_)\n",
    "print(\"Best score: \", nb_grid_search.best_score_)"
   ]
  },
  {
   "cell_type": "markdown",
   "id": "16ebb385",
   "metadata": {},
   "source": [
    "### Random Forest"
   ]
  },
  {
   "cell_type": "code",
   "execution_count": 6,
   "id": "10241801",
   "metadata": {},
   "outputs": [
    {
     "name": "stdout",
     "output_type": "stream",
     "text": [
      "Best parameters:  {'max_depth': None, 'n_estimators': 200}\n",
      "Best score:  0.8526576019777503\n"
     ]
    }
   ],
   "source": [
    "rf = RandomForestClassifier()\n",
    "rf_grid = {'n_estimators': [100, 150, 200],\n",
    "           'max_depth': [200, None]}\n",
    "\n",
    "rf_grid_search = GridSearchCV(estimator = rf, \n",
    "                              param_grid = rf_grid, \n",
    "                              scoring = \"accuracy\", \n",
    "                              cv = StratifiedKFold())\n",
    "rf_grid_search = rf_grid_search.fit(X_train_tfidf, y_train)\n",
    "rf.set_params(**rf_grid_search.best_params_)\n",
    "\n",
    "print(\"Best parameters: \", rf_grid_search.best_params_)\n",
    "print(\"Best score: \", rf_grid_search.best_score_)"
   ]
  },
  {
   "cell_type": "markdown",
   "id": "57a2c876",
   "metadata": {},
   "source": [
    "### SVM"
   ]
  },
  {
   "cell_type": "code",
   "execution_count": 7,
   "id": "6e60e31c",
   "metadata": {},
   "outputs": [
    {
     "name": "stdout",
     "output_type": "stream",
     "text": [
      "Best parameters:  {'C': 1}\n",
      "Best score:  0.872991347342398\n"
     ]
    }
   ],
   "source": [
    "svm = LinearSVC()\n",
    "svm_grid = {\"C\": [0.01, 0.1, 1, 10]}\n",
    "\n",
    "svm_grid_search = GridSearchCV(estimator = svm, \n",
    "                               param_grid = svm_grid, \n",
    "                               scoring = \"accuracy\", \n",
    "                               cv = StratifiedKFold())\n",
    "svm_grid_search = svm_grid_search.fit(X_train_tfidf, y_train)\n",
    "svm.set_params(**svm_grid_search.best_params_)\n",
    "\n",
    "print(\"Best parameters: \", svm_grid_search.best_params_)\n",
    "print(\"Best score: \", svm_grid_search.best_score_)"
   ]
  },
  {
   "cell_type": "markdown",
   "id": "6f1b4e75",
   "metadata": {},
   "source": [
    "### K-Nearest Neighbors"
   ]
  },
  {
   "cell_type": "code",
   "execution_count": 8,
   "id": "c359d2ec",
   "metadata": {
    "scrolled": true
   },
   "outputs": [
    {
     "name": "stdout",
     "output_type": "stream",
     "text": [
      "Best parameters:  {'n_neighbors': 1, 'weights': 'uniform'}\n",
      "Best score:  0.8121755253399259\n"
     ]
    }
   ],
   "source": [
    "knn = KNeighborsClassifier()\n",
    "knn_grid = {\"n_neighbors\": np.arange(1, 10, 2), \n",
    "            \"weights\": [\"uniform\", \"distance\"]}\n",
    "\n",
    "knn_grid_search = GridSearchCV(estimator = knn, \n",
    "                               param_grid = knn_grid, \n",
    "                               scoring = \"accuracy\", \n",
    "                               cv = StratifiedKFold())\n",
    "knn_grid_search = knn_grid_search.fit(X_train_tfidf, y_train)\n",
    "knn.set_params(**knn_grid_search.best_params_)\n",
    "\n",
    "print(\"Best parameters: \", knn_grid_search.best_params_)\n",
    "print(\"Best score: \", knn_grid_search.best_score_)"
   ]
  },
  {
   "cell_type": "markdown",
   "id": "8c14362c",
   "metadata": {},
   "source": [
    "### Stacked Model"
   ]
  },
  {
   "cell_type": "code",
   "execution_count": 30,
   "id": "42a472b4",
   "metadata": {},
   "outputs": [],
   "source": [
    "estimators = [('lr', lr),\n",
    "              ('nb', nb),\n",
    "              ('rf', rf),\n",
    "              ('svm', svm),\n",
    "              ('knn', knn)\n",
    "             ]\n",
    "\n",
    "stack = StackingClassifier(estimators = estimators,\n",
    "                           final_estimator = LogisticRegression())"
   ]
  },
  {
   "cell_type": "code",
   "execution_count": 37,
   "id": "bc43086c",
   "metadata": {},
   "outputs": [
    {
     "name": "stdout",
     "output_type": "stream",
     "text": [
      "Cross validation score: 0.8750927099999999\n"
     ]
    }
   ],
   "source": [
    "print(\"Cross validation score:\", np.mean(cross_val_score(stack, X_train_tfidf, y_train, cv=5)))"
   ]
  },
  {
   "cell_type": "markdown",
   "id": "7c47432f",
   "metadata": {},
   "source": [
    "## Train and Test Model"
   ]
  },
  {
   "cell_type": "markdown",
   "id": "b8ddf039",
   "metadata": {},
   "source": [
    "The model with the highest average cross validated training score was the stacked model. The following dataframe contains the performance metrics from predicting the testing data with the training data fitted model."
   ]
  },
  {
   "cell_type": "code",
   "execution_count": 171,
   "id": "b3c2c46f",
   "metadata": {},
   "outputs": [],
   "source": [
    "stack_fitted = stack.fit(X_train_tfidf, y_train)\n",
    "y_pred_stack = stack_fitted.predict(X_test_tfidf)\n",
    "y_pred_prob = stack_fitted.predict_proba(X_test_tfidf)"
   ]
  },
  {
   "cell_type": "code",
   "execution_count": 9,
   "id": "f7425da8",
   "metadata": {},
   "outputs": [
    {
     "data": {
      "text/html": [
       "<div>\n",
       "<style scoped>\n",
       "    .dataframe tbody tr th:only-of-type {\n",
       "        vertical-align: middle;\n",
       "    }\n",
       "\n",
       "    .dataframe tbody tr th {\n",
       "        vertical-align: top;\n",
       "    }\n",
       "\n",
       "    .dataframe thead th {\n",
       "        text-align: right;\n",
       "    }\n",
       "</style>\n",
       "<table border=\"1\" class=\"dataframe\">\n",
       "  <thead>\n",
       "    <tr style=\"text-align: right;\">\n",
       "      <th></th>\n",
       "      <th>Metric</th>\n",
       "      <th>Value</th>\n",
       "    </tr>\n",
       "  </thead>\n",
       "  <tbody>\n",
       "    <tr>\n",
       "      <th>0</th>\n",
       "      <td>Accuracy</td>\n",
       "      <td>0.884577</td>\n",
       "    </tr>\n",
       "    <tr>\n",
       "      <th>1</th>\n",
       "      <td>F1-score</td>\n",
       "      <td>0.732632</td>\n",
       "    </tr>\n",
       "    <tr>\n",
       "      <th>2</th>\n",
       "      <td>Precision</td>\n",
       "      <td>0.810972</td>\n",
       "    </tr>\n",
       "    <tr>\n",
       "      <th>3</th>\n",
       "      <td>Recall</td>\n",
       "      <td>0.680385</td>\n",
       "    </tr>\n",
       "    <tr>\n",
       "      <th>4</th>\n",
       "      <td>ROC AUC</td>\n",
       "      <td>0.944863</td>\n",
       "    </tr>\n",
       "    <tr>\n",
       "      <th>5</th>\n",
       "      <td>Hamming Loss</td>\n",
       "      <td>0.115423</td>\n",
       "    </tr>\n",
       "  </tbody>\n",
       "</table>\n",
       "</div>"
      ],
      "text/plain": [
       "         Metric     Value\n",
       "0      Accuracy  0.884577\n",
       "1      F1-score  0.732632\n",
       "2     Precision  0.810972\n",
       "3        Recall  0.680385\n",
       "4       ROC AUC  0.944863\n",
       "5  Hamming Loss  0.115423"
      ]
     },
     "execution_count": 9,
     "metadata": {},
     "output_type": "execute_result"
    }
   ],
   "source": [
    "pd.DataFrame({\"Metric\": [\"Accuracy\", \n",
    "                         \"F1-score\", \n",
    "                         \"Precision\", \n",
    "                         \"Recall\", \n",
    "                         \"ROC AUC\", \n",
    "                         \"Hamming Loss\"],\n",
    "              \"Value\": [accuracy_score(y_test, y_pred_stack), \n",
    "                        f1_score(y_test, y_pred_stack, average = \"macro\"), \n",
    "                        precision_score(y_test, y_pred_stack, average = 'macro'), \n",
    "                        recall_score(y_test, y_pred_stack, average = 'macro'), \n",
    "                        roc_auc_score(y_test, y_pred_prob, multi_class = 'ovo'), \n",
    "                        hamming_loss(y_test, y_pred_stack)]})"
   ]
  },
  {
   "cell_type": "markdown",
   "id": "b81b9ddf",
   "metadata": {},
   "source": [
    "All of the performance metrics are in the acceptable to good range, indicating that the model is sufficient at categorizing the MCMF programs through their descriptions. Recall is the lowest, most likely due to the imbalance in the data."
   ]
  },
  {
   "cell_type": "markdown",
   "id": "e1d1f4f9",
   "metadata": {},
   "source": [
    "## Test Updated Data (2024)"
   ]
  },
  {
   "cell_type": "markdown",
   "id": "86387762",
   "metadata": {},
   "source": [
    "The following data is an updated MCMF dataset downloaded in August 2024 (original data used to train was downloaded in April 2023). I used it as an extra testing set to check the performance of my model."
   ]
  },
  {
   "cell_type": "code",
   "execution_count": 10,
   "id": "7ffafbf3",
   "metadata": {},
   "outputs": [],
   "source": [
    "new_dat = pd.read_csv(\"../data/wrangle/new_data_clean.csv\").drop(\"Unnamed: 0\", axis = 1)\n",
    "new_dat['clean_text'] = new_dat['description'].apply(lambda x: finalpreprocess(x))\n",
    "\n",
    "X_new = new_dat[\"clean_text\"]\n",
    "X_new_tfidf = tfidf_vectorizer.transform(X_new)"
   ]
  },
  {
   "cell_type": "code",
   "execution_count": 11,
   "id": "0f858c3b",
   "metadata": {
    "scrolled": true
   },
   "outputs": [
    {
     "data": {
      "text/html": [
       "<div>\n",
       "<style scoped>\n",
       "    .dataframe tbody tr th:only-of-type {\n",
       "        vertical-align: middle;\n",
       "    }\n",
       "\n",
       "    .dataframe tbody tr th {\n",
       "        vertical-align: top;\n",
       "    }\n",
       "\n",
       "    .dataframe thead th {\n",
       "        text-align: right;\n",
       "    }\n",
       "</style>\n",
       "<table border=\"1\" class=\"dataframe\">\n",
       "  <thead>\n",
       "    <tr style=\"text-align: right;\">\n",
       "      <th></th>\n",
       "      <th>Metric</th>\n",
       "      <th>Value</th>\n",
       "    </tr>\n",
       "  </thead>\n",
       "  <tbody>\n",
       "    <tr>\n",
       "      <th>0</th>\n",
       "      <td>Accuracy</td>\n",
       "      <td>0.847931</td>\n",
       "    </tr>\n",
       "    <tr>\n",
       "      <th>1</th>\n",
       "      <td>F1-score</td>\n",
       "      <td>0.638887</td>\n",
       "    </tr>\n",
       "    <tr>\n",
       "      <th>2</th>\n",
       "      <td>Precision</td>\n",
       "      <td>0.738829</td>\n",
       "    </tr>\n",
       "    <tr>\n",
       "      <th>3</th>\n",
       "      <td>Recall</td>\n",
       "      <td>0.595067</td>\n",
       "    </tr>\n",
       "    <tr>\n",
       "      <th>4</th>\n",
       "      <td>ROC AUC</td>\n",
       "      <td>0.900640</td>\n",
       "    </tr>\n",
       "    <tr>\n",
       "      <th>5</th>\n",
       "      <td>Hamming Loss</td>\n",
       "      <td>0.152069</td>\n",
       "    </tr>\n",
       "  </tbody>\n",
       "</table>\n",
       "</div>"
      ],
      "text/plain": [
       "         Metric     Value\n",
       "0      Accuracy  0.847931\n",
       "1      F1-score  0.638887\n",
       "2     Precision  0.738829\n",
       "3        Recall  0.595067\n",
       "4       ROC AUC  0.900640\n",
       "5  Hamming Loss  0.152069"
      ]
     },
     "execution_count": 11,
     "metadata": {},
     "output_type": "execute_result"
    }
   ],
   "source": [
    "pred = stack_fitted.predict(X_new_tfidf)\n",
    "pred_prob = stack_fitted.predict_proba(X_new_tfidf)\n",
    "true = new_dat[\"category\"]\n",
    "\n",
    "pd.DataFrame({\"Metric\": [\"Accuracy\", \n",
    "                         \"F1-score\", \n",
    "                         \"Precision\", \n",
    "                         \"Recall\", \n",
    "                         \"ROC AUC\", \n",
    "                         \"Hamming Loss\"],\n",
    "              \"Value\": [accuracy_score(true, pred), \n",
    "                        f1_score(true, pred, average = \"macro\"), \n",
    "                        precision_score(true, pred, average = 'macro'), \n",
    "                        recall_score(true, pred, average = 'macro'), \n",
    "                        roc_auc_score(true, pred_prob, multi_class = 'ovo'), \n",
    "                        hamming_loss(true, pred)]})"
   ]
  },
  {
   "cell_type": "markdown",
   "id": "f487930d",
   "metadata": {},
   "source": [
    "The performance is slightly worse than what we saw with the testing set but it is pretty similar. In this case, the f1-score and recall are in slightly concerning range, indicating that the model is most likely conservative in its prediction."
   ]
  },
  {
   "cell_type": "markdown",
   "id": "eabd1501",
   "metadata": {},
   "source": [
    "## Predict Unclassified Data\n"
   ]
  },
  {
   "cell_type": "markdown",
   "id": "e5273389",
   "metadata": {},
   "source": [
    "### Multi-category observations from original data"
   ]
  },
  {
   "cell_type": "markdown",
   "id": "3e52caff",
   "metadata": {},
   "source": [
    "The following dataset is a subset of the original data that was labeled with multiple categories that was removed from the training data. I want to predict the categories of these programs using my model to see if it matches at least one of the true categories."
   ]
  },
  {
   "cell_type": "code",
   "execution_count": 12,
   "id": "59746365",
   "metadata": {},
   "outputs": [],
   "source": [
    "unclass_dat = pd.read_csv(\"../data/wrangle/unclassified_text.csv\")\n",
    "unclass_dat = unclass_dat.rename(columns = {\"Unnamed: 0\": \"index\"})\n",
    "unclass_dat['clean_text'] = unclass_dat['description'].apply(lambda x: finalpreprocess(x))\n",
    "\n",
    "X_unclass = unclass_dat[\"clean_text\"]\n",
    "X_unclass_tfidf = tfidf_vectorizer.transform(X_unclass)"
   ]
  },
  {
   "cell_type": "code",
   "execution_count": 177,
   "id": "c340e1a9",
   "metadata": {},
   "outputs": [
    {
     "data": {
      "text/html": [
       "<div>\n",
       "<style scoped>\n",
       "    .dataframe tbody tr th:only-of-type {\n",
       "        vertical-align: middle;\n",
       "    }\n",
       "\n",
       "    .dataframe tbody tr th {\n",
       "        vertical-align: top;\n",
       "    }\n",
       "\n",
       "    .dataframe thead th {\n",
       "        text-align: right;\n",
       "    }\n",
       "</style>\n",
       "<table border=\"1\" class=\"dataframe\">\n",
       "  <thead>\n",
       "    <tr style=\"text-align: right;\">\n",
       "      <th></th>\n",
       "      <th>program_name</th>\n",
       "      <th>Academics</th>\n",
       "      <th>Leisure and Arts</th>\n",
       "      <th>Community Service</th>\n",
       "      <th>Professional Skill Building</th>\n",
       "      <th>pred</th>\n",
       "    </tr>\n",
       "  </thead>\n",
       "  <tbody>\n",
       "    <tr>\n",
       "      <th>0</th>\n",
       "      <td>Hack the Pandemic</td>\n",
       "      <td>1</td>\n",
       "      <td>0</td>\n",
       "      <td>1</td>\n",
       "      <td>0</td>\n",
       "      <td>Leisure and Arts</td>\n",
       "    </tr>\n",
       "    <tr>\n",
       "      <th>1</th>\n",
       "      <td>Virtual Workshops</td>\n",
       "      <td>1</td>\n",
       "      <td>0</td>\n",
       "      <td>0</td>\n",
       "      <td>1</td>\n",
       "      <td>Professional Skill Building</td>\n",
       "    </tr>\n",
       "    <tr>\n",
       "      <th>2</th>\n",
       "      <td>Art &amp; Science Workshop Series:  Intro to Art!</td>\n",
       "      <td>1</td>\n",
       "      <td>1</td>\n",
       "      <td>0</td>\n",
       "      <td>0</td>\n",
       "      <td>Leisure and Arts</td>\n",
       "    </tr>\n",
       "    <tr>\n",
       "      <th>3</th>\n",
       "      <td>The Science of Art Virtual Workshop</td>\n",
       "      <td>1</td>\n",
       "      <td>1</td>\n",
       "      <td>0</td>\n",
       "      <td>0</td>\n",
       "      <td>Academics</td>\n",
       "    </tr>\n",
       "    <tr>\n",
       "      <th>4</th>\n",
       "      <td>The Art of Science virtual workshop</td>\n",
       "      <td>1</td>\n",
       "      <td>1</td>\n",
       "      <td>0</td>\n",
       "      <td>0</td>\n",
       "      <td>Academics</td>\n",
       "    </tr>\n",
       "    <tr>\n",
       "      <th>...</th>\n",
       "      <td>...</td>\n",
       "      <td>...</td>\n",
       "      <td>...</td>\n",
       "      <td>...</td>\n",
       "      <td>...</td>\n",
       "      <td>...</td>\n",
       "    </tr>\n",
       "    <tr>\n",
       "      <th>1081</th>\n",
       "      <td>Coach for Success - UIC Student Life Visit</td>\n",
       "      <td>1</td>\n",
       "      <td>1</td>\n",
       "      <td>0</td>\n",
       "      <td>0</td>\n",
       "      <td>Academics</td>\n",
       "    </tr>\n",
       "    <tr>\n",
       "      <th>1082</th>\n",
       "      <td>Coach for Success Program</td>\n",
       "      <td>1</td>\n",
       "      <td>0</td>\n",
       "      <td>0</td>\n",
       "      <td>1</td>\n",
       "      <td>Academics</td>\n",
       "    </tr>\n",
       "    <tr>\n",
       "      <th>1083</th>\n",
       "      <td>Code For Good Hackathon</td>\n",
       "      <td>1</td>\n",
       "      <td>0</td>\n",
       "      <td>0</td>\n",
       "      <td>1</td>\n",
       "      <td>Professional Skill Building</td>\n",
       "    </tr>\n",
       "    <tr>\n",
       "      <th>1084</th>\n",
       "      <td>Global Partners Project</td>\n",
       "      <td>0</td>\n",
       "      <td>0</td>\n",
       "      <td>1</td>\n",
       "      <td>1</td>\n",
       "      <td>Professional Skill Building</td>\n",
       "    </tr>\n",
       "    <tr>\n",
       "      <th>1085</th>\n",
       "      <td>Austin Spring Fling</td>\n",
       "      <td>0</td>\n",
       "      <td>1</td>\n",
       "      <td>0</td>\n",
       "      <td>1</td>\n",
       "      <td>Leisure and Arts</td>\n",
       "    </tr>\n",
       "  </tbody>\n",
       "</table>\n",
       "<p>1086 rows × 6 columns</p>\n",
       "</div>"
      ],
      "text/plain": [
       "                                       program_name  Academics  \\\n",
       "0                                 Hack the Pandemic          1   \n",
       "1                                 Virtual Workshops          1   \n",
       "2     Art & Science Workshop Series:  Intro to Art!          1   \n",
       "3               The Science of Art Virtual Workshop          1   \n",
       "4               The Art of Science virtual workshop          1   \n",
       "...                                             ...        ...   \n",
       "1081     Coach for Success - UIC Student Life Visit          1   \n",
       "1082                      Coach for Success Program          1   \n",
       "1083                        Code For Good Hackathon          1   \n",
       "1084                        Global Partners Project          0   \n",
       "1085                            Austin Spring Fling          0   \n",
       "\n",
       "      Leisure and Arts  Community Service  Professional Skill Building  \\\n",
       "0                    0                  1                            0   \n",
       "1                    0                  0                            1   \n",
       "2                    1                  0                            0   \n",
       "3                    1                  0                            0   \n",
       "4                    1                  0                            0   \n",
       "...                ...                ...                          ...   \n",
       "1081                 1                  0                            0   \n",
       "1082                 0                  0                            1   \n",
       "1083                 0                  0                            1   \n",
       "1084                 0                  1                            1   \n",
       "1085                 1                  0                            1   \n",
       "\n",
       "                             pred  \n",
       "0                Leisure and Arts  \n",
       "1     Professional Skill Building  \n",
       "2                Leisure and Arts  \n",
       "3                       Academics  \n",
       "4                       Academics  \n",
       "...                           ...  \n",
       "1081                    Academics  \n",
       "1082                    Academics  \n",
       "1083  Professional Skill Building  \n",
       "1084  Professional Skill Building  \n",
       "1085             Leisure and Arts  \n",
       "\n",
       "[1086 rows x 6 columns]"
      ]
     },
     "execution_count": 177,
     "metadata": {},
     "output_type": "execute_result"
    }
   ],
   "source": [
    "pred = stack_fitted.predict(X_unclass_tfidf)\n",
    "results = pd.concat([unclass_dat[[\"program_name\", \n",
    "                                  \"academics_dum\", \n",
    "                                  \"leisure_arts_dum\", \n",
    "                                  \"community_service_dum\", \n",
    "                                  \"professional_skill_dum\"]], \n",
    "                     pd.Series(pred)], axis = 1)\n",
    "results = results.rename(columns = {\"academics_dum\": \"Academics\", \n",
    "                                    \"leisure_arts_dum\": \"Leisure and Arts\", \n",
    "                                    \"community_service_dum\": \"Community Service\", \n",
    "                                    \"professional_skill_dum\": \"Professional Skill Building\",\n",
    "                                    0: \"pred\"})\n",
    "results"
   ]
  },
  {
   "cell_type": "code",
   "execution_count": 178,
   "id": "b57a0b07",
   "metadata": {},
   "outputs": [
    {
     "name": "stdout",
     "output_type": "stream",
     "text": [
      "Number of correctly labeled observations: 994\n",
      "Proportion of correctly labeled observations: 0.9152854511970534\n"
     ]
    }
   ],
   "source": [
    "def correct(row):\n",
    "    pred = row[\"pred\"]\n",
    "    if row[pred] == 1:\n",
    "        return True\n",
    "    else:\n",
    "        return False\n",
    "\n",
    "compare = results.apply(func = correct, axis = 1)\n",
    "print(\"Number of correctly labeled observations:\", np.sum(compare))\n",
    "print(\"Proportion of correctly labeled observations:\", np.sum(compare) / len(compare))"
   ]
  },
  {
   "cell_type": "markdown",
   "id": "5452f14b",
   "metadata": {},
   "source": [
    "### Handmade Sample Data"
   ]
  },
  {
   "cell_type": "markdown",
   "id": "d570aa0b",
   "metadata": {},
   "source": [
    "I created some sample descriptions of two programs for each of the four categories to see if my model could accurately predict the categories."
   ]
  },
  {
   "cell_type": "code",
   "execution_count": 179,
   "id": "3e67c458",
   "metadata": {},
   "outputs": [
    {
     "data": {
      "text/html": [
       "<div>\n",
       "<style scoped>\n",
       "    .dataframe tbody tr th:only-of-type {\n",
       "        vertical-align: middle;\n",
       "    }\n",
       "\n",
       "    .dataframe tbody tr th {\n",
       "        vertical-align: top;\n",
       "    }\n",
       "\n",
       "    .dataframe thead th {\n",
       "        text-align: right;\n",
       "    }\n",
       "</style>\n",
       "<table border=\"1\" class=\"dataframe\">\n",
       "  <thead>\n",
       "    <tr style=\"text-align: right;\">\n",
       "      <th></th>\n",
       "      <th>description</th>\n",
       "      <th>category</th>\n",
       "    </tr>\n",
       "  </thead>\n",
       "  <tbody>\n",
       "    <tr>\n",
       "      <th>0</th>\n",
       "      <td>Come learn Python coding at the Chicago Public...</td>\n",
       "      <td>Professional Skill Building</td>\n",
       "    </tr>\n",
       "    <tr>\n",
       "      <th>1</th>\n",
       "      <td>Origami, painting, paper mache, ceramics, draw...</td>\n",
       "      <td>Leisure and Arts</td>\n",
       "    </tr>\n",
       "    <tr>\n",
       "      <th>2</th>\n",
       "      <td>Do you need volunteering hours? Cleveland Clin...</td>\n",
       "      <td>Community Service</td>\n",
       "    </tr>\n",
       "    <tr>\n",
       "      <th>3</th>\n",
       "      <td>We are offering tutoring services to middle sc...</td>\n",
       "      <td>Academics</td>\n",
       "    </tr>\n",
       "    <tr>\n",
       "      <th>4</th>\n",
       "      <td>Are you interested in pursuing law as a career...</td>\n",
       "      <td>Professional Skill Building</td>\n",
       "    </tr>\n",
       "    <tr>\n",
       "      <th>5</th>\n",
       "      <td>Baseball camp for middle schoolers. August 13-...</td>\n",
       "      <td>Leisure and Arts</td>\n",
       "    </tr>\n",
       "    <tr>\n",
       "      <th>6</th>\n",
       "      <td>It's the yuletide season! This is a chance for...</td>\n",
       "      <td>Community Service</td>\n",
       "    </tr>\n",
       "    <tr>\n",
       "      <th>7</th>\n",
       "      <td>Chicago Science Foundation is hosting a 4-day ...</td>\n",
       "      <td>Academics</td>\n",
       "    </tr>\n",
       "  </tbody>\n",
       "</table>\n",
       "</div>"
      ],
      "text/plain": [
       "                                         description  \\\n",
       "0  Come learn Python coding at the Chicago Public...   \n",
       "1  Origami, painting, paper mache, ceramics, draw...   \n",
       "2  Do you need volunteering hours? Cleveland Clin...   \n",
       "3  We are offering tutoring services to middle sc...   \n",
       "4  Are you interested in pursuing law as a career...   \n",
       "5  Baseball camp for middle schoolers. August 13-...   \n",
       "6  It's the yuletide season! This is a chance for...   \n",
       "7  Chicago Science Foundation is hosting a 4-day ...   \n",
       "\n",
       "                      category  \n",
       "0  Professional Skill Building  \n",
       "1             Leisure and Arts  \n",
       "2            Community Service  \n",
       "3                    Academics  \n",
       "4  Professional Skill Building  \n",
       "5             Leisure and Arts  \n",
       "6            Community Service  \n",
       "7                    Academics  "
      ]
     },
     "execution_count": 179,
     "metadata": {},
     "output_type": "execute_result"
    }
   ],
   "source": [
    "description1 = \"Come learn Python coding at the Chicago Public Library! We will be going over the basics of computer programming along with a fun activity of making a tic-tac-toe game using code.\"\n",
    "description2 = \"Origami, painting, paper mache, ceramics, drawing, we have it all! Join us for a weekend of hands-on crafts and acitivities. We are located in Rogers Park, Illinois. Make sure to bring your parent's signatures.\"\n",
    "description3 = \"Do you need volunteering hours? Cleveland Clinic is looking for students to give back to their community through many different opportunities. Whether you're interested in patient interaction or looking for a more behind the scenes work, we have all sorts of ways you can help! Contact us if you're interested.\"\n",
    "description4 = \"We are offering tutoring services to middle school and high school students who are looking for extra afterschool help. We have college student tutors who have experience in teaching math, english, science, and history. The cost is covered by the Chicago Charity Foundation! Contact us at 123-456-7890 or find us at www.tutoring.com.\"\n",
    "description5 = \"Are you interested in pursuing law as a career? Come speak to current law students, lawyers, district attorneys, and judges at the Chicago Pre-Law panel. You'll have many opportunities for one-on-one conversations with professionals in the law field where you can ask any questions and network.\"\n",
    "description6 = \"Baseball camp for middle schoolers. August 13-16, 2024 at Chicago Public High School. Contact Coach Johnson for more information and any questions.\"\n",
    "description7 = \"It's the yuletide season! This is a chance for you to give back to your community by volunteering at the Rosewood Soup Kitchen. Spread the holiday spirit this weekend with us. We offer volunteering hours.\"\n",
    "description8 = \"Chicago Science Foundation is hosting a 4-day summer camp where we will be exploring everything to do with space! If you're interested in learning about spaceships, astrophysics, aliens, and the outer space, this is the camp for you. We will also have engineers from NASA come speak about their experience studying astronomy and aerospace engineering.\"\n",
    "\"Professional Skill Building\"\n",
    "sample_dat = pd.DataFrame({\"description\": [description1, description2, description3, description4, description5, description6, description7, description8],\n",
    "                           \"category\": [\"Professional Skill Building\", \"Leisure and Arts\", \"Community Service\", \"Academics\", \"Professional Skill Building\", \"Leisure and Arts\", \"Community Service\", \"Academics\"]})\n",
    "sample_dat"
   ]
  },
  {
   "cell_type": "code",
   "execution_count": 180,
   "id": "e1b7f21e",
   "metadata": {},
   "outputs": [
    {
     "data": {
      "text/html": [
       "<div>\n",
       "<style scoped>\n",
       "    .dataframe tbody tr th:only-of-type {\n",
       "        vertical-align: middle;\n",
       "    }\n",
       "\n",
       "    .dataframe tbody tr th {\n",
       "        vertical-align: top;\n",
       "    }\n",
       "\n",
       "    .dataframe thead th {\n",
       "        text-align: right;\n",
       "    }\n",
       "</style>\n",
       "<table border=\"1\" class=\"dataframe\">\n",
       "  <thead>\n",
       "    <tr style=\"text-align: right;\">\n",
       "      <th></th>\n",
       "      <th>true</th>\n",
       "      <th>predicted</th>\n",
       "    </tr>\n",
       "  </thead>\n",
       "  <tbody>\n",
       "    <tr>\n",
       "      <th>0</th>\n",
       "      <td>Professional Skill Building</td>\n",
       "      <td>Professional Skill Building</td>\n",
       "    </tr>\n",
       "    <tr>\n",
       "      <th>1</th>\n",
       "      <td>Leisure and Arts</td>\n",
       "      <td>Leisure and Arts</td>\n",
       "    </tr>\n",
       "    <tr>\n",
       "      <th>2</th>\n",
       "      <td>Community Service</td>\n",
       "      <td>Leisure and Arts</td>\n",
       "    </tr>\n",
       "    <tr>\n",
       "      <th>3</th>\n",
       "      <td>Academics</td>\n",
       "      <td>Academics</td>\n",
       "    </tr>\n",
       "    <tr>\n",
       "      <th>4</th>\n",
       "      <td>Professional Skill Building</td>\n",
       "      <td>Professional Skill Building</td>\n",
       "    </tr>\n",
       "    <tr>\n",
       "      <th>5</th>\n",
       "      <td>Leisure and Arts</td>\n",
       "      <td>Leisure and Arts</td>\n",
       "    </tr>\n",
       "    <tr>\n",
       "      <th>6</th>\n",
       "      <td>Community Service</td>\n",
       "      <td>Leisure and Arts</td>\n",
       "    </tr>\n",
       "    <tr>\n",
       "      <th>7</th>\n",
       "      <td>Academics</td>\n",
       "      <td>Academics</td>\n",
       "    </tr>\n",
       "  </tbody>\n",
       "</table>\n",
       "</div>"
      ],
      "text/plain": [
       "                          true                    predicted\n",
       "0  Professional Skill Building  Professional Skill Building\n",
       "1             Leisure and Arts             Leisure and Arts\n",
       "2            Community Service             Leisure and Arts\n",
       "3                    Academics                    Academics\n",
       "4  Professional Skill Building  Professional Skill Building\n",
       "5             Leisure and Arts             Leisure and Arts\n",
       "6            Community Service             Leisure and Arts\n",
       "7                    Academics                    Academics"
      ]
     },
     "execution_count": 180,
     "metadata": {},
     "output_type": "execute_result"
    }
   ],
   "source": [
    "sample_dat['clean_text'] = sample_dat['description'].apply(lambda x: finalpreprocess(x))\n",
    "X_sample = sample_dat[\"clean_text\"]\n",
    "X_sample_tfidf = tfidf_vectorizer.transform(X_sample)\n",
    "\n",
    "pred = stack_fitted.predict(X_sample_tfidf)\n",
    "true = sample_dat['category']\n",
    "\n",
    "sample_results = pd.concat([sample_dat['category'], pd.Series(pred)], axis = 1)\n",
    "sample_results = sample_results.rename(columns = {\"category\": \"true\", 0: \"predicted\"})\n",
    "sample_results"
   ]
  },
  {
   "cell_type": "markdown",
   "id": "3e304c70",
   "metadata": {},
   "source": [
    "It looks like the model is good at predicting the categories on completely new data but has trouble classifying Community Service opportunities. This could be because of the imbalance in the training dataset. Community Service was the smallest category in the training data while Leisure and Arts was the largest."
   ]
  },
  {
   "cell_type": "markdown",
   "id": "e7ea58c4",
   "metadata": {},
   "source": [
    "## Next Steps"
   ]
  },
  {
   "cell_type": "markdown",
   "id": "543a1347",
   "metadata": {},
   "source": [
    "In order to improve performance, I could implement text augmentation (synonym replacement, random insertion/deletion, text paraphrasing, etc.). I could also experiment with a hybrid of random over/undersampling and class weighting. I have tried both techniques separately but saw a decrease in performance, but I think an appropriate combination of those methods could possibly improve performance. Increasing the number of TF-IDF features have shown to increase performance and if I had the computing power, that is another strategy I would experiment with. However, I would have to be careful not to overfit the training data."
   ]
  }
 ],
 "metadata": {
  "kernelspec": {
   "display_name": "Python 3 (ipykernel)",
   "language": "python",
   "name": "python3"
  },
  "language_info": {
   "codemirror_mode": {
    "name": "ipython",
    "version": 3
   },
   "file_extension": ".py",
   "mimetype": "text/x-python",
   "name": "python",
   "nbconvert_exporter": "python",
   "pygments_lexer": "ipython3",
   "version": "3.9.12"
  }
 },
 "nbformat": 4,
 "nbformat_minor": 5
}
