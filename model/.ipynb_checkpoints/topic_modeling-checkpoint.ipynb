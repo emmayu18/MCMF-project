{
 "cells": [
  {
   "cell_type": "code",
   "execution_count": 5,
   "id": "5bf90ddf",
   "metadata": {},
   "outputs": [
    {
     "data": {
      "text/html": [
       "<style>\n",
       "    ul:nth-of-type(1) {\n",
       "        list-style-type: decimal;\n",
       "    }\n",
       "    .table-of-contents {\n",
       "        width: auto;\n",
       "        background: #eee;\n",
       "        font-size: 1.1em;\n",
       "        padding: 1em 2em;\n",
       "        margin: 0 0 0.5em 0.5em;\n",
       "    }\n",
       "</style> \n",
       "\n",
       "<script>\n",
       "    code_show=true; \n",
       "    function code_toggle() {\n",
       "     if (code_show){\n",
       "     $('div.input').hide();\n",
       "     } else {\n",
       "     $('div.input').show();\n",
       "     }\n",
       "     code_show = !code_show\n",
       "    } \n",
       "    $( document ).ready(code_toggle);\n",
       "    </script>\n",
       "    <form action=\"javascript:code_toggle()\"><input type=\"submit\" value=\"Click here to toggle on/off code chunks.\"></form>\n",
       "</script>\n",
       "<br></br>\n",
       "<h2>Table of Contents</h2>\n",
       "<ul class = \"table-of-contents\">\n",
       "    <li><a href=\"#Supervised-Learning\">Supervised Learning</a></li>\n",
       "    <ul>\n",
       "        <li><a href=\"#Parametric-Models\">Parametric Models</a></li>\n",
       "            <ul>\n",
       "                <li><a href=\"#Logistic-Regression\">Logistic Regression</a></li>\n",
       "                <li><a href=\"#Multi-Class-Logistic-Regression\">Multi-Class Logistic Regression</a></li>\n",
       "            </ul>\n",
       "        <li><a href=\"#Non-Parametric-Models\">Non-Parametric Models</a></li>\n",
       "            <ul>\n",
       "                <li><a href=\"#Linear-Support-Vector-Machine-(SVM)-Classifier-Margin\">Linear Support Vector Machine (SVM) Classifier Margin</a></li>\n",
       "                <li><a href=\"#Non-Linear-SVM\">Non-Linear SVM</a></li>\n",
       "                <li><a href=\"#K-Nearest-Neighbors-(KNN)-with-Custom-Weights\">K-Nearest Neighbors (KNN) with Custom Weights</a></li>\n",
       "            </ul>\n",
       "    </ul>\n",
       "    <li><a href=\"#Unsupervised-Learning\">Unsupervised Learning</a></li>\n",
       "        <ul>\n",
       "            <li><a href=\"#Gaussian-Mixture-Model\">Gaussian Mixture Model</a></li>\n",
       "            <li><a href=\"#K-Means-Clustering\">K-Means Clustering</a></li>\n",
       "            <li><a href=\"#Principal-Component-Analysis-(PCA)\">Principal Component Analysis (PCA)</a></li>\n",
       "        </ul>\n",
       "    <li><a href=\"#Deep-Learning\">Deep Learning</a></li>\n",
       "</ul>"
      ],
      "text/plain": [
       "<IPython.core.display.HTML object>"
      ]
     },
     "execution_count": 5,
     "metadata": {},
     "output_type": "execute_result"
    }
   ],
   "source": [
    "from IPython.core.display import HTML\n",
    "\n",
    "def css_styling():\n",
    "    styles = open(\"custom.css\", \"r\").read()\n",
    "    return HTML(styles)\n",
    "css_styling()"
   ]
  },
  {
   "cell_type": "markdown",
   "id": "26ce84a5",
   "metadata": {},
   "source": [
    "# MCMF Topic Modeling"
   ]
  },
  {
   "cell_type": "markdown",
   "id": "d164604d",
   "metadata": {},
   "source": [
    "DESCRIPTION"
   ]
  },
  {
   "cell_type": "code",
   "execution_count": 1,
   "id": "b3fab77a",
   "metadata": {},
   "outputs": [],
   "source": [
    "# import libraries\n",
    "import warnings\n",
    "warnings.filterwarnings('ignore')\n",
    "\n",
    "import pandas as pd\n",
    "import numpy as np\n",
    "import matplotlib.pyplot as plt\n",
    "from scipy.stats import multivariate_normal\n",
    "\n",
    "from sklearn.model_selection import train_test_split\n",
    "from sklearn.preprocessing import StandardScaler, Normalizer\n",
    "from sklearn.linear_model import LogisticRegression\n",
    "from sklearn.svm import SVC\n",
    "from sklearn.neighbors import KNeighborsRegressor\n",
    "from sklearn.cluster import KMeans\n",
    "from sklearn.mixture import GaussianMixture\n",
    "from sklearn.decomposition import TruncatedSVD, PCA\n",
    "from sklearn.pipeline import Pipeline\n",
    "from sklearn.model_selection import GridSearchCV, StratifiedKFold, cross_val_score, cross_val_predict\n",
    "from sklearn.metrics import accuracy_score, confusion_matrix, classification_report, mean_squared_error, silhouette_score\n",
    "from sklearn.datasets import fetch_california_housing\n",
    "\n",
    "import tensorflow as tf\n",
    "tf.config.run_functions_eagerly(True)\n",
    "\n",
    "import keras\n",
    "from keras.utils import set_random_seed, to_categorical\n",
    "from keras.preprocessing.image import ImageDataGenerator"
   ]
  },
  {
   "cell_type": "markdown",
   "id": "d6bbdef5",
   "metadata": {},
   "source": [
    "# Supervised Learning"
   ]
  },
  {
   "cell_type": "markdown",
   "id": "de9585fe",
   "metadata": {},
   "source": [
    "## Parametric Models"
   ]
  },
  {
   "cell_type": "markdown",
   "id": "6b802848",
   "metadata": {},
   "source": [
    "### Logistic Regression"
   ]
  },
  {
   "cell_type": "code",
   "execution_count": 2,
   "id": "9f8264a5",
   "metadata": {},
   "outputs": [],
   "source": [
    "# import dataset\n",
    "dat = pd.read_csv(\"data/heart_disease_classification.csv\")\n",
    "\n",
    "# split SOMETHING\n",
    "y = dat[\"target\"]\n",
    "X = dat.drop(\"target\", axis = 1)\n",
    "\n",
    "# convert non-binary categorical variables to dummy variables\n",
    "nonbinary_col =  X[[\"cp\", \"thal\", \"slope\", \"ca\", \"restecg\"]].astype(\"category\")\n",
    "X = X.drop([\"cp\", \"thal\", \"slope\", \"ca\", \"restecg\"], axis = 1)\n",
    "dummies = pd.get_dummies(nonbinary_col)\n",
    "X = pd.concat([X, dummies], axis = 1)\n",
    "\n",
    "# split training and testing data\n",
    "X_train, X_test, y_train, y_test = train_test_split(X, y, test_size = 0.2, random_state = 42)\n",
    "\n",
    "# scale features\n",
    "scaler = StandardScaler()\n",
    "scaler.fit(X_train)\n",
    "X_train = scaler.transform(X_train)\n",
    "X_test = scaler.transform(X_test)"
   ]
  },
  {
   "cell_type": "code",
   "execution_count": 3,
   "id": "09d03cc2",
   "metadata": {},
   "outputs": [],
   "source": [
    "## helper functions for calculate_cost_gradient function\n",
    "def sigmoid(val):\n",
    "    sig = 1/ (1 + np.e**(-val)) \n",
    "    return sig\n",
    "\n",
    "def initialize(dim):\n",
    "    weights = np.full((dim,), 0.01)\n",
    "    bias = 0.0\n",
    "    return weights, bias\n",
    "\n",
    "def predict(model_parameters, x_test, threshold):\n",
    "    weights = model_parameters['weights']\n",
    "    bias = model_parameters['bias']\n",
    "    y_pred = sigmoid(np.dot(weights, np.transpose(x_test)) + bias)\n",
    "    for i in range(len(y_pred)):\n",
    "        if y_pred[i] >= threshold:\n",
    "            y_pred[i] = 1\n",
    "        else:\n",
    "            y_pred[i] = 0\n",
    "    return y_pred"
   ]
  },
  {
   "cell_type": "code",
   "execution_count": 4,
   "id": "715cc0c1",
   "metadata": {},
   "outputs": [],
   "source": [
    "## helper function for GradientDescent function\n",
    "def calculate_cost_gradient(weights, bias, x_train, y_train):\n",
    "    # Calculate the predictions with weights, x_train, bias\n",
    "    preds = np.dot(weights, np.transpose(x_train)) + bias\n",
    "    # Sigmoid preds\n",
    "    sig_preds = sigmoid(preds)\n",
    "    # Calculate the cross-entropy error with preds and y_train\n",
    "    cost_sum = y_train * np.log(sig_preds) + (1 - y_train) * np.log(1 - sig_preds)\n",
    "    # Find the negative average of the error\n",
    "    M = x_train.shape[0]\n",
    "    cost = np.sum(cost_sum) / -M\n",
    "    # Calculate the gradient\n",
    "    derivative_bias = np.sum(sig_preds - y_train) / M\n",
    "    gradient_weight = np.dot(np.transpose(x_train), (sig_preds - y_train)) / M\n",
    "    gradient = {'weight_gradient': gradient_weight, 'bias_gradient': derivative_bias}\n",
    "    return cost, gradient"
   ]
  },
  {
   "cell_type": "code",
   "execution_count": 5,
   "id": "8691a581",
   "metadata": {},
   "outputs": [],
   "source": [
    "def GradientDescent(weights, bias, x_train, y_train, lr, iters, tol):\n",
    "    costList = []\n",
    "    index = []\n",
    "    for ii in range(iters):\n",
    "        cost, gradient = calculate_cost_gradient(weights, bias, x_train, y_train)\n",
    "        # Update the weights and the bias\n",
    "        weights = weights - lr * gradient['weight_gradient']\n",
    "        bias = bias - lr * gradient['bias_gradient']\n",
    "        costList.append(cost)\n",
    "        index.append(ii)\n",
    "        if len(costList) > 1:\n",
    "            if abs(cost - costList[-2]) < tol:\n",
    "                optimum_params = {'weights': weights, 'bias': bias}\n",
    "                print('Total iterations:', ii)\n",
    "                print('Final binary cross-entropy cost:', cost)\n",
    "                plt.plot(index, costList)\n",
    "                plt.xlabel('num of iters')\n",
    "                plt.ylabel('Binary cross-entropy cost')\n",
    "                plt.show()\n",
    "                return optimum_params\n",
    "    optimum_params = {'weights':weights, 'bias':bias}\n",
    "    print('Total iterations:', ii)\n",
    "    print('Final binary cross-entropy cost:', cost)\n",
    "    plt.plot(index, costList)\n",
    "    plt.xlabel('num of iters')\n",
    "    plt.ylabel('Binary cross-entropy cost')\n",
    "    plt.show()\n",
    "    print(\"Warning: Maximum number of iterations reached, cost difference is still above tolerance level\")\n",
    "    return optimum_params"
   ]
  },
  {
   "cell_type": "code",
   "execution_count": 6,
   "id": "f79c1f19",
   "metadata": {},
   "outputs": [],
   "source": [
    "def logistic_regression(x_train, y_train, x_test, y_test, learning_rate, num_iterations, tol, threshold = 0.5):\n",
    "    weights, bias = initialize(x_train.shape[1])\n",
    "    optimum_parameters = GradientDescent(weights, bias, x_train, y_train, learning_rate, num_iterations, tol)\n",
    "    y_pred = predict(optimum_parameters, x_test, threshold)\n",
    "    accuracy = sum(y_pred == y_test) / y_test.shape[0]\n",
    "    print(\"Accuracy:\", accuracy)\n",
    "    return optimum_parameters"
   ]
  },
  {
   "cell_type": "code",
   "execution_count": 7,
   "id": "d0d63930",
   "metadata": {},
   "outputs": [
    {
     "name": "stdout",
     "output_type": "stream",
     "text": [
      "Total iterations: 895\n",
      "Final binary cross-entropy cost: 0.28697947348429\n"
     ]
    },
    {
     "data": {
      "image/png": "[encoded data removed]",
      "text/plain": [
       "<Figure size 432x288 with 1 Axes>"
      ]
     },
     "metadata": {
      "needs_background": "light"
     },
     "output_type": "display_data"
    },
    {
     "name": "stdout",
     "output_type": "stream",
     "text": [
      "Accuracy: 0.8524590163934426\n"
     ]
    },
    {
     "data": {
      "text/plain": [
       "{'weights': array([ 0.23236984, -0.89012098, -0.42918994, -0.12074661,  0.20196152,\n",
       "         0.31517715, -0.47805271, -0.59605219, -0.51823436, -0.13404437,\n",
       "         0.4540557 ,  0.45006183,  0.0870117 ,  0.21534228,  0.31100572,\n",
       "        -0.40868683, -0.13093361, -0.40128656,  0.48781003,  0.802403  ,\n",
       "        -0.46172927, -0.67593864, -0.15768135,  0.55404344, -0.09943445,\n",
       "         0.13929639, -0.06864693]),\n",
       " 'bias': 0.2178800719201089}"
      ]
     },
     "execution_count": 7,
     "metadata": {},
     "output_type": "execute_result"
    }
   ],
   "source": [
    "logistic_regression(X_train, y_train, X_test, y_test, 0.1, 5000, 0.000001)"
   ]
  },
  {
   "cell_type": "code",
   "execution_count": 8,
   "id": "987036b0",
   "metadata": {},
   "outputs": [
    {
     "data": {
      "text/plain": [
       "0.8524590163934426"
      ]
     },
     "execution_count": 8,
     "metadata": {},
     "output_type": "execute_result"
    }
   ],
   "source": [
    "model = LogisticRegression(penalty = 'none')\n",
    "fitted_model = model.fit(X_train, y_train)\n",
    "fitted_model.score(X_test, y_test)"
   ]
  },
  {
   "cell_type": "markdown",
   "id": "1834c745",
   "metadata": {},
   "source": [
    "### Multi-Class Logistic Regression"
   ]
  },
  {
   "cell_type": "code",
   "execution_count": 9,
   "id": "a3dd70a5",
   "metadata": {},
   "outputs": [],
   "source": [
    "phone_price = pd.read_csv(\"data/phone_price.csv\")\n",
    "\n",
    "y = phone_price[\"price_range\"]\n",
    "X = phone_price.drop([\"price_range\"], axis = 1)\n",
    "\n",
    "X_train, X_test, y_train, y_test = train_test_split(X, y, test_size = 0.2, stratify = y, random_state = 2)\n",
    "\n",
    "scaler = StandardScaler()\n",
    "scaler.fit(X_train)\n",
    "X_train = scaler.transform(X_train)\n",
    "X_test = scaler.transform(X_test)"
   ]
  },
  {
   "cell_type": "code",
   "execution_count": 10,
   "id": "616bb2d2",
   "metadata": {},
   "outputs": [],
   "source": [
    "def logistic_regression_mc(x_train, y_train, x_test, y_test, learning_rate, num_iterations, tol, threshold = 0.5):\n",
    "    optimum_parameters = []\n",
    "    probs = []\n",
    "    for i in np.unique(y_train):\n",
    "        new_y_train = np.array([1 if x == 0 else 0 for x in y_train])\n",
    "        weights, bias = initialize(x_train.shape[1])\n",
    "        parameter = GradientDescent(weights, bias, x_train, new_y_train, learning_rate, num_iterations, tol)\n",
    "        optimum_parameters.append(parameter)\n",
    "        pred = sigmoid(np.dot(parameter['weights'], np.transpose(x_test)) + parameter['bias'])\n",
    "        probs.append(pred)\n",
    "    y_pred = np.argmax(probs, axis = 0)\n",
    "    print(\"Accuracy:\", accuracy_score(y_test, y_pred))\n",
    "    print(\"Confusion matrix:\", confusion_matrix(y_test, y_pred))\n",
    "    print(classification_report(y_test, y_pred))\n",
    "    return optimum_parameters"
   ]
  },
  {
   "cell_type": "code",
   "execution_count": 11,
   "id": "b04c8e1c",
   "metadata": {},
   "outputs": [
    {
     "name": "stdout",
     "output_type": "stream",
     "text": [
      "Total iterations: 54\n",
      "Final binary cross-entropy cost: 0.13509849239735286\n"
     ]
    },
    {
     "data": {
      "image/png": "[encoded data removed]",
      "text/plain": [
       "<Figure size 432x288 with 1 Axes>"
      ]
     },
     "metadata": {
      "needs_background": "light"
     },
     "output_type": "display_data"
    },
    {
     "name": "stdout",
     "output_type": "stream",
     "text": [
      "Total iterations: 54\n",
      "Final binary cross-entropy cost: 0.13509849239735286\n"
     ]
    },
    {
     "data": {
      "image/png": "[encoded data removed]",
      "text/plain": [
       "<Figure size 432x288 with 1 Axes>"
      ]
     },
     "metadata": {
      "needs_background": "light"
     },
     "output_type": "display_data"
    },
    {
     "name": "stdout",
     "output_type": "stream",
     "text": [
      "Total iterations: 54\n",
      "Final binary cross-entropy cost: 0.13509849239735286\n"
     ]
    },
    {
     "data": {
      "image/png": "[encoded data removed]",
      "text/plain": [
       "<Figure size 432x288 with 1 Axes>"
      ]
     },
     "metadata": {
      "needs_background": "light"
     },
     "output_type": "display_data"
    },
    {
     "name": "stdout",
     "output_type": "stream",
     "text": [
      "Total iterations: 54\n",
      "Final binary cross-entropy cost: 0.13509849239735286\n"
     ]
    },
    {
     "data": {
      "image/png": "[encoded data removed]",
      "text/plain": [
       "<Figure size 432x288 with 1 Axes>"
      ]
     },
     "metadata": {
      "needs_background": "light"
     },
     "output_type": "display_data"
    },
    {
     "name": "stdout",
     "output_type": "stream",
     "text": [
      "Accuracy: 0.25\n",
      "Confusion matrix: [[100   0   0   0]\n",
      " [100   0   0   0]\n",
      " [100   0   0   0]\n",
      " [100   0   0   0]]\n",
      "              precision    recall  f1-score   support\n",
      "\n",
      "           0       0.25      1.00      0.40       100\n",
      "           1       0.00      0.00      0.00       100\n",
      "           2       0.00      0.00      0.00       100\n",
      "           3       0.00      0.00      0.00       100\n",
      "\n",
      "    accuracy                           0.25       400\n",
      "   macro avg       0.06      0.25      0.10       400\n",
      "weighted avg       0.06      0.25      0.10       400\n",
      "\n"
     ]
    },
    {
     "data": {
      "text/plain": [
       "[{'weights': array([-0.76688023,  0.01681733,  0.08799782,  0.06043653, -0.07774915,\n",
       "          0.01434243, -0.04336121, -0.09678966,  0.0633176 ,  0.06999557,\n",
       "          0.031438  , -0.53731889, -0.43820134, -3.17105185, -0.048842  ,\n",
       "          0.07831156, -0.10657022, -0.05898804,  0.03782573,  0.05781936]),\n",
       "  'bias': -2.602140719245439},\n",
       " {'weights': array([-0.76688023,  0.01681733,  0.08799782,  0.06043653, -0.07774915,\n",
       "          0.01434243, -0.04336121, -0.09678966,  0.0633176 ,  0.06999557,\n",
       "          0.031438  , -0.53731889, -0.43820134, -3.17105185, -0.048842  ,\n",
       "          0.07831156, -0.10657022, -0.05898804,  0.03782573,  0.05781936]),\n",
       "  'bias': -2.602140719245439},\n",
       " {'weights': array([-0.76688023,  0.01681733,  0.08799782,  0.06043653, -0.07774915,\n",
       "          0.01434243, -0.04336121, -0.09678966,  0.0633176 ,  0.06999557,\n",
       "          0.031438  , -0.53731889, -0.43820134, -3.17105185, -0.048842  ,\n",
       "          0.07831156, -0.10657022, -0.05898804,  0.03782573,  0.05781936]),\n",
       "  'bias': -2.602140719245439},\n",
       " {'weights': array([-0.76688023,  0.01681733,  0.08799782,  0.06043653, -0.07774915,\n",
       "          0.01434243, -0.04336121, -0.09678966,  0.0633176 ,  0.06999557,\n",
       "          0.031438  , -0.53731889, -0.43820134, -3.17105185, -0.048842  ,\n",
       "          0.07831156, -0.10657022, -0.05898804,  0.03782573,  0.05781936]),\n",
       "  'bias': -2.602140719245439}]"
      ]
     },
     "execution_count": 11,
     "metadata": {},
     "output_type": "execute_result"
    }
   ],
   "source": [
    "logistic_regression_mc(X_train, y_train, X_test, y_test, 1, 5000, 0.001)"
   ]
  },
  {
   "cell_type": "markdown",
   "id": "89fbab34",
   "metadata": {},
   "source": [
    "## Non-Parametric Models"
   ]
  },
  {
   "cell_type": "markdown",
   "id": "4d06373e",
   "metadata": {},
   "source": [
    "### Linear Support Vector Machine (SVM) Classifier Margin "
   ]
  },
  {
   "cell_type": "code",
   "execution_count": null,
   "id": "46835fd3",
   "metadata": {},
   "outputs": [],
   "source": [
    "creditcard = pd.read_csv(\"data/creditcard.csv\")\n",
    "\n",
    "creditcard_0 = creditcard[creditcard[\"Class\"] == 0]\n",
    "creditcard_1 = creditcard[creditcard[\"Class\"] == 1]\n",
    "creditcard_0 = creditcard_0.sample(n = 1000, random_state = 42)\n",
    "creditcard = pd.concat([creditcard_0, creditcard_1])\n",
    "\n",
    "y = creditcard[\"Class\"]\n",
    "X = creditcard.drop([\"Class\", \"Amount\", \"Time\"], axis = 1)\n",
    "X_train, X_test, y_train, y_test = train_test_split(X, y, test_size = 0.3, random_state = 0)"
   ]
  },
  {
   "cell_type": "code",
   "execution_count": null,
   "id": "516f9048",
   "metadata": {},
   "outputs": [],
   "source": [
    "cv_score = []\n",
    "num_sv = []\n",
    "perc = []\n",
    "for c in [10e-5, 10e-4, 10e-3, 10e-2, 10e-1, 10, 100]:\n",
    "    svc = SVC(C = c, kernel = \"linear\", random_state = 1)\n",
    "    score = cross_val_score(svc, X_train, y_train, cv = 5)\n",
    "    cv_score.append(np.average(score))\n",
    "    \n",
    "    trained_model = svc.fit(X_train, y_train)\n",
    "    num_sv.append(np.sum(trained_model.n_support_))\n",
    "    \n",
    "    viol = np.abs(svc.decision_function(X_train)) < (1 / np.linalg.norm(svc.coef_))\n",
    "    misclassified = y_train != svc.predict(X_train)\n",
    "    perc.append(np.sum(viol & misclassified) / np.sum(viol))\n",
    "    \n",
    "print(\"Number of support vectors:\", num_sv)\n",
    "print(\"Percent misclassified:\", perc)"
   ]
  },
  {
   "cell_type": "code",
   "execution_count": null,
   "id": "ece2baf9",
   "metadata": {},
   "outputs": [],
   "source": [
    "index = cv_score.index(max(cv_score))\n",
    "c = [10e-5, 10e-4, 10e-3, 10e-2, 10e-1, 10, 100][index]\n",
    "svc = SVC(C = c, kernel = \"linear\", random_state = 1, probability = True)\n",
    "probs = cross_val_predict(svc,\n",
    "                          X_test,\n",
    "                          y_test,\n",
    "                          cv = 5,\n",
    "                          method = \"predict_proba\")\n",
    "\n",
    "precision_lst = []\n",
    "threshold_lst = []\n",
    "for threshold in np.arange(0,1.1,0.01):\n",
    "    preds = []\n",
    "    for instance in probs:\n",
    "        if instance[0] >= threshold:\n",
    "            preds.append(0)\n",
    "        else:\n",
    "            preds.append(1)\n",
    "    recall = recall_score(y_test, preds)\n",
    "    if recall >= 0.95:\n",
    "        precision_lst.append(precision_score(y_test, preds))\n",
    "        threshold_lst.append(threshold)\n",
    "\n",
    "threshold_index = precision_lst.index(max(precision_lst))\n",
    "threshold_lst[threshold_index]"
   ]
  },
  {
   "cell_type": "markdown",
   "id": "fce26c14",
   "metadata": {},
   "source": [
    "### Non-Linear SVM"
   ]
  },
  {
   "cell_type": "code",
   "execution_count": null,
   "id": "04f5f7f9",
   "metadata": {},
   "outputs": [],
   "source": [
    "magic_telescope = pd.read_csv(\"data/magic_telescope.csv\", header = None)\n",
    "y = magic_telescope[10]\n",
    "X = magic_telescope.drop(10, axis = 1)\n",
    "\n",
    "y.replace('g', 0)\n",
    "y.replace('h', 1)\n",
    "\n",
    "train_test_split(X, y, test_size = 0.3, stratify = y, random_state = 2)\n",
    "\n",
    "scaler = StandardScaler()\n",
    "scaler.fit(X_train)\n",
    "X_train = scaler.transform(X_train)\n",
    "X_test = scaler.transform(X_test)"
   ]
  },
  {
   "cell_type": "code",
   "execution_count": null,
   "id": "8a091d1f",
   "metadata": {},
   "outputs": [],
   "source": [
    "parameter_grid = {\"C\": [0.01, 0.1, 1, 10], \n",
    "                  \"kernel\": [\"poly\", \"rbf\", \"sigmoid\"], \n",
    "                  \"degree\": [2, 3, 4],\n",
    "                  \"gamma\": [0.001, 0.01, 0.1, 1]}\n",
    "svc = SVC()\n",
    "grid_search = GridSearchCV(estimator = svc, \n",
    "                           param_grid = parameter_grid, \n",
    "                           scoring = \"accuracy\", \n",
    "                           cv = StratifiedKFold(), \n",
    "                           verbose = 2)\n",
    "grid_search = grid_search.fit(X_train, y_train)"
   ]
  },
  {
   "cell_type": "code",
   "execution_count": null,
   "id": "0ac00281",
   "metadata": {},
   "outputs": [],
   "source": [
    "svc.set_params(**grid_search.best_params_)\n",
    "svc.fit(X_train, y_train)\n",
    "svc.score(X_test, y_test)"
   ]
  },
  {
   "cell_type": "markdown",
   "id": "3336b9a6",
   "metadata": {},
   "source": [
    "### K-Nearest Neighbors (KNN) with Custom Weights"
   ]
  },
  {
   "cell_type": "code",
   "execution_count": null,
   "id": "99fcab75",
   "metadata": {},
   "outputs": [],
   "source": [
    "fetch_california_housing = fetch_california_housing()\n",
    "X = fetch_california_housing[\"data\"]\n",
    "y = fetch_california_housing[\"target\"]\n",
    "y = np.multiply(y, 100000)\n",
    "\n",
    "X_train, X_test, y_train, y_test = train_test_split(X, y, test_size = 0.3, random_state = 42)\n",
    "\n",
    "scaler = StandardScaler()\n",
    "scaler.fit(X_train)\n",
    "X_train_scaled = scaler.transform(X_train)\n",
    "X_test_scaled = scaler.transform(X_test)"
   ]
  },
  {
   "cell_type": "code",
   "execution_count": null,
   "id": "0cf2da5a",
   "metadata": {},
   "outputs": [],
   "source": [
    "def dist_sq(dist):\n",
    "    weights = 1 / np.square(dist)\n",
    "    return weights\n",
    "\n",
    "def dist_g10(dist):\n",
    "    weights = 1 / (10 * np.sqrt(2 * np.pi)) * np.exp(-np.square(dist) / 200)\n",
    "    return weights\n",
    "\n",
    "knn = KNeighborsRegressor()\n",
    "hyperparameter_grid = {\"n_neighbors\": np.arange(1, 50, 2), \"weights\": [\"uniform\", dist_sq, dist_g10]}\n",
    "grid_search = GridSearchCV(estimator = knn, \n",
    "                           param_grid = hyperparameter_grid, \n",
    "                           scoring = \"neg_root_mean_squared_error\", \n",
    "                           cv = 5,\n",
    "                           verbose = 1)\n",
    "grid_search = grid_search.fit(X_train, y_train)\n",
    "\n",
    "print(grid_search.best_params_)\n",
    "\n",
    "knn.set_params(**grid_search.best_params_)\n",
    "knn.fit(X_train, y_train)\n",
    "y_pred_knn = knn.predict(X_test)\n",
    "print(\"KNN result:\", np.sqrt(mean_squared_error(y_test, y_pred_knn)))"
   ]
  },
  {
   "cell_type": "markdown",
   "id": "0e2a5318",
   "metadata": {},
   "source": [
    "# Unsupervised Learning"
   ]
  },
  {
   "cell_type": "markdown",
   "id": "b14fa829",
   "metadata": {},
   "source": [
    "## Gaussian Mixture Model"
   ]
  },
  {
   "cell_type": "code",
   "execution_count": null,
   "id": "2c5dad8a",
   "metadata": {},
   "outputs": [],
   "source": [
    "oldfaithful = pd.read_csv(\"data/oldfaithful.csv\")\n",
    "\n",
    "plt.scatter(oldfaithful[\"eruptions\"], oldfaithful[\"waiting\"])\n",
    "plt.xlabel(\"Eruption Length (min)\")\n",
    "plt.ylabel(\"Waiting Length (min)\")\n",
    "plt.show()"
   ]
  },
  {
   "cell_type": "code",
   "execution_count": null,
   "id": "333991a3",
   "metadata": {},
   "outputs": [],
   "source": [
    "np.random.seed(0)\n",
    "\n",
    "# KMeans\n",
    "kmeans = KMeans(n_clusters = 2)\n",
    "kmeans.fit(oldfaithful)\n",
    "kmeans_pred = kmeans.predict(oldfaithful)\n",
    "kmeans_pred\n",
    "\n",
    "plt.scatter(oldfaithful[\"eruptions\"],oldfaithful[\"waiting\"], c = kmeans_pred)\n",
    "plt.grid()\n",
    "plt.xlabel('Eruptions')\n",
    "plt.ylabel('Waiting')\n",
    "plt.show()\n",
    "\n",
    "# GMM\n",
    "gmm = GaussianMixture(n_components = 2, covariance_type = \"full\")\n",
    "gmm.fit(oldfaithful)\n",
    "gmm_pred = gmm.predict(oldfaithful)\n",
    "\n",
    "plt.scatter(oldfaithful[\"eruptions\"],oldfaithful[\"waiting\"], c = gmm_pred)\n",
    "plt.grid()\n",
    "plt.xlabel('Eruptions')\n",
    "plt.ylabel('Waiting')\n",
    "plt.show()"
   ]
  },
  {
   "cell_type": "code",
   "execution_count": null,
   "id": "5fa836f3",
   "metadata": {},
   "outputs": [],
   "source": [
    "cluster0 = multivariate_normal.pdf([2, 54], mean=gmm.means_[0], cov=gmm.covariances_[0])\n",
    "cluster1 = multivariate_normal.pdf([2, 54], mean=gmm.means_[1], cov=gmm.covariances_[1])\n",
    "\n",
    "np.sum(gmm.weights_*[cluster0, cluster1])"
   ]
  },
  {
   "cell_type": "markdown",
   "id": "41c65c36",
   "metadata": {},
   "source": [
    "## K-Means Clustering"
   ]
  },
  {
   "cell_type": "code",
   "execution_count": null,
   "id": "acf6f938",
   "metadata": {},
   "outputs": [],
   "source": [
    "stocks = pd.read_csv(\"data/stocks.csv\")\n",
    "company = stocks[\"Unnamed: 0\"]\n",
    "price_movement = stocks.drop(\"Unnamed: 0\", axis = 1)"
   ]
  },
  {
   "cell_type": "code",
   "execution_count": null,
   "id": "14e98f69",
   "metadata": {},
   "outputs": [],
   "source": [
    "variance = price_movement.var(axis = 1)\n",
    "print(\"Highest price variance:\", company[np.argmax(variance)])\n",
    "print(\"Lowest price variance:\", company[np.argmin(variance)])"
   ]
  },
  {
   "cell_type": "code",
   "execution_count": null,
   "id": "4fd2a24e",
   "metadata": {},
   "outputs": [],
   "source": [
    "normalizer = Normalizer()\n",
    "norm_price_movement = normalizer.fit_transform(price_movement)"
   ]
  },
  {
   "cell_type": "code",
   "execution_count": null,
   "id": "977b2376",
   "metadata": {},
   "outputs": [],
   "source": [
    "np.random.seed(0)\n",
    "inertia = []\n",
    "for k in range(2, 16):\n",
    "    kmeans = KMeans(n_clusters = k)\n",
    "    kmeans.fit(norm_price_movement)\n",
    "    inertia.append(kmeans.inertia_)\n",
    "    \n",
    "plt.scatter([*range(2, 16)], inertia)\n",
    "plt.grid()\n",
    "plt.xlabel('Number of Clusters')\n",
    "plt.ylabel('Inertia')\n",
    "plt.show()"
   ]
  },
  {
   "cell_type": "code",
   "execution_count": null,
   "id": "33c81102",
   "metadata": {},
   "outputs": [],
   "source": [
    "np.random.seed(0)\n",
    "kmeans = KMeans(n_clusters = 8)\n",
    "kmeans.fit(norm_price_movement)\n",
    "y_pred = kmeans.predict(norm_price_movement)\n",
    "pd.DataFrame({\"Company\": company, \"Label\": y_pred}).sort_values(\"Label\")"
   ]
  },
  {
   "cell_type": "code",
   "execution_count": null,
   "id": "6ee906ca",
   "metadata": {},
   "outputs": [],
   "source": [
    "wiki_features = pd.read_csv(\"data/wiki_features.csv\")\n",
    "\n",
    "print(wiki_features[:4])\n",
    "print(wiki_features.shape)\n",
    "\n",
    "title = wiki_features[\"Unnamed: 0\"]\n",
    "tf = wiki_features.drop(\"Unnamed: 0\", axis = 1)"
   ]
  },
  {
   "cell_type": "code",
   "execution_count": null,
   "id": "7c96bd39",
   "metadata": {},
   "outputs": [],
   "source": [
    "tsvd = TruncatedSVD()\n",
    "kmeans = KMeans()\n",
    "pipe = Pipeline([('tsvd', tsvd), ('kmeans', kmeans)])"
   ]
  },
  {
   "cell_type": "code",
   "execution_count": null,
   "id": "930895ad",
   "metadata": {},
   "outputs": [],
   "source": [
    "np.random.seed(0)\n",
    "\n",
    "def do_silhouette_score(trained_model, X):\n",
    "    reduced_X = trained_model['tsvd'].fit_transform(X)\n",
    "    y_pred = trained_model['kmeans'].predict(reduced_X)\n",
    "    return silhouette_score(reduced_X, y_pred)\n",
    "\n",
    "param_grid = {'tsvd__n_components': range(20, 51, 10),\n",
    "              'kmeans__n_clusters': range(2, 9)}\n",
    "        \n",
    "grid = GridSearchCV(pipe, param_grid, cv = [(slice(None), slice(None))], scoring = do_silhouette_score, verbose = 2)\n",
    "grid.fit(tf)"
   ]
  },
  {
   "cell_type": "code",
   "execution_count": null,
   "id": "c02198d1",
   "metadata": {},
   "outputs": [],
   "source": [
    "np.random.seed(0)\n",
    "\n",
    "estimator = grid.best_estimator_\n",
    "estimator.fit(tf)\n",
    "y_pred = estimator.predict(tf)\n",
    "\n",
    "pd.DataFrame({\"Title\": title, \"Label\": y_pred}).sort_values(\"Label\")"
   ]
  },
  {
   "cell_type": "markdown",
   "id": "831a5fac",
   "metadata": {},
   "source": [
    "## Principal Component Analysis (PCA)"
   ]
  },
  {
   "cell_type": "code",
   "execution_count": null,
   "id": "975d19c9",
   "metadata": {},
   "outputs": [],
   "source": [
    "tumor = pd.read_csv('data/tumor_classification.csv')\n",
    "\n",
    "y = tumor['diagnosis']\n",
    "X = tumor.drop(['id', 'diagnosis'], axis=1)\n",
    "\n",
    "X_train, X_test, y_train, y_test = train_test_split(X, y, stratify = y, test_size = 0.2, random_state = 42)"
   ]
  },
  {
   "cell_type": "code",
   "execution_count": null,
   "id": "bd5167f1",
   "metadata": {},
   "outputs": [],
   "source": [
    "scaler = StandardScaler()\n",
    "pca = PCA(svd_solver = \"full\")\n",
    "logreg = LogisticRegression()\n",
    "\n",
    "pipe = Pipeline([('scaler', scaler), ('pca', pca), ('logreg', logreg)])\n",
    "param_grid = {'pca__n_components': [0.9 , 0.91, 0.92, 0.93, 0.94, 0.95, 0.96, 0.97, 0.98, 0.99],\n",
    "              'logreg__C': [0.01, 0.1, 1, 10]}\n",
    "        \n",
    "grid = GridSearchCV(pipe, param_grid, scoring = 'accuracy', verbose = 2)\n",
    "grid.fit(X_train, y_train)"
   ]
  },
  {
   "cell_type": "code",
   "execution_count": null,
   "id": "640257ca",
   "metadata": {},
   "outputs": [],
   "source": [
    "print(grid.best_params_)\n",
    "\n",
    "estimator = grid.best_estimator_\n",
    "estimator.fit(X_train, y_train)\n",
    "print(confusion_matrix(estimator.predict(X_test), y_test))"
   ]
  },
  {
   "cell_type": "markdown",
   "id": "fa0b5ef0",
   "metadata": {},
   "source": [
    "# Deep Learning"
   ]
  },
  {
   "cell_type": "markdown",
   "id": "afc6fc56",
   "metadata": {},
   "source": [
    "## Neural Networks"
   ]
  },
  {
   "cell_type": "markdown",
   "id": "70c79305",
   "metadata": {},
   "source": [
    "### Classification"
   ]
  },
  {
   "cell_type": "code",
   "execution_count": null,
   "id": "fc331388",
   "metadata": {},
   "outputs": [],
   "source": [
    "np.random.seed(1)\n",
    "random_weights = [np.random.rand(20,8), np.random.rand(10,20), np.random.rand(5,10), np.random.rand(3,5)]\n",
    "random_biases = [np.random.rand(20,1), np.random.rand(10,1), np.random.rand(5,1), np.random.rand(3,1)]\n",
    "\n",
    "random_feature_matrix = np.random.rand(1000,8)\n",
    "\n",
    "\n",
    "################## Write your function here #####################\n",
    "def do_relu(z):\n",
    "    return np.maximum(z, 0)\n",
    "\n",
    "def do_softmax(z):\n",
    "    return np.e**z / np.sum(np.e**z)\n",
    "\n",
    "def forward_phase_classification(data, weights, bias):\n",
    "    a = np.transpose(data)\n",
    "    num_layers = len(weights)\n",
    "    for layer in range(num_layers):\n",
    "        z = np.dot(weights[layer], a) + bias[layer]\n",
    "        if layer == num_layers - 1:\n",
    "            a = do_softmax(z)\n",
    "        else:\n",
    "            a = do_relu(z)\n",
    "    return np.transpose(a)\n",
    "\n",
    "\n",
    "probs = forward_phase_classification(random_feature_matrix, random_weights, random_biases)\n",
    "pd.DataFrame(probs)"
   ]
  },
  {
   "cell_type": "code",
   "execution_count": null,
   "id": "dd64beb6",
   "metadata": {},
   "outputs": [],
   "source": [
    "data = pd.read_csv('data/heartbeat_dataset.csv', header=None)\n",
    "\n",
    "# One heartbeat\n",
    "plt.plot(data.iloc[1,:])\n",
    "plt.xlabel('time')\n",
    "plt.ylabel('Voltage')\n",
    "plt.plot()\n",
    "\n",
    "# Overall class distribution\n",
    "print(data[187].value_counts())\n",
    "\n",
    "# Downsampling Class 0 instances to 8000\n",
    "class_other = data[data[187]!=0.0]\n",
    "class_0 = data[data[187]==0.0].sample(n = 8000, random_state=1)\n",
    "data_sampled = pd.concat([class_0, class_other])\n",
    "\n",
    "# The new class distribution.\n",
    "print(data_sampled[187].value_counts())\n",
    "\n",
    "# Separating the features and the labels into X and y variables.\n",
    "y = data_sampled[187]\n",
    "X = data_sampled.drop([187], axis=1)\n",
    "\n",
    "# Train-test split\n",
    "X_train, X_test, y_train, y_test = train_test_split(X, y, stratify=y,random_state=1, test_size=0.1)\n",
    "\n",
    "print(X_train.shape)\n",
    "\n",
    "X_train = np.array(X_train)\n",
    "X_test = np.array(X_test)\n",
    "y_train_onehot = keras.utils.to_categorical(y_train)"
   ]
  },
  {
   "cell_type": "code",
   "execution_count": null,
   "id": "4dd4b8fb",
   "metadata": {},
   "outputs": [],
   "source": [
    "# random seed\n",
    "set_random_seed(0)\n",
    "\n",
    "# create network\n",
    "model = keras.Sequential()\n",
    "model.add(keras.layers.Dense(128, input_shape=(187, ), activation = \"relu\"))\n",
    "model.add(keras.layers.Dense(64, activation='relu'))\n",
    "model.add(keras.layers.Dense(32, activation='relu'))\n",
    "model.add(keras.layers.Dense(5, activation= 'softmax'))       \n",
    "model.summary()\n",
    "\n",
    "# compile network\n",
    "model.compile(optimizer = \"adam\", loss=\"categorical_crossentropy\")\n",
    "\n",
    "# train network\n",
    "history = model.fit(X_train, y_train_onehot, epochs = 15, batch_size = 10, validation_split = 0.1)"
   ]
  },
  {
   "cell_type": "code",
   "execution_count": null,
   "id": "25d3724f",
   "metadata": {},
   "outputs": [],
   "source": [
    "# accuracy and confusion matrix\n",
    "y_pred = np.argmax(model.predict(X_test), axis=1)\n",
    "print(\"\\nTest accuracy: \" + str(accuracy_score(y_test, y_pred)))\n",
    "print(\"\\nConfusion Matrix:\")\n",
    "print(confusion_matrix(y_test, y_pred))\n",
    "\n",
    "# validation vs. epoch plot\n",
    "print(history.history.keys())\n",
    "plt.plot(history.history['loss'][1:])\n",
    "plt.plot(history.history['val_loss'])\n",
    "plt.title('model loss')\n",
    "plt.ylabel('loss')\n",
    "plt.xlabel('epoch')\n",
    "plt.legend(['train', 'val'], loc='upper left')\n",
    "plt.show()"
   ]
  },
  {
   "cell_type": "markdown",
   "id": "835444c8",
   "metadata": {},
   "source": [
    "### Regression"
   ]
  },
  {
   "cell_type": "code",
   "execution_count": null,
   "id": "fc2327b1",
   "metadata": {},
   "outputs": [],
   "source": [
    "superconductivity = pd.read_csv(\"data/superconductivity.csv\")\n",
    "X = superconductivity.drop(\"critical_temp\", axis = 1)\n",
    "y = superconductivity[\"critical_temp\"]\n",
    "\n",
    "X_train, X_test, y_train, y_test = train_test_split(X, y, test_size = 0.3, random_state = 2)\n",
    "\n",
    "scaler = StandardScaler()\n",
    "scaler.fit(X_train)\n",
    "X_train_sc = scaler.transform(X_train)\n",
    "X_test_sc = scaler.transform(X_test)"
   ]
  },
  {
   "cell_type": "code",
   "execution_count": null,
   "id": "c38981d0",
   "metadata": {},
   "outputs": [],
   "source": [
    "set_random_seed(0)\n",
    "\n",
    "# create network\n",
    "model = keras.Sequential() \n",
    "model.add(keras.layers.InputLayer(input_shape=(81,))) \n",
    "model.add(keras.layers.Dense(500, activation='relu', kernel_initializer='HeNormal')) \n",
    "model.add(keras.layers.Dropout(0.3))\n",
    "model.add(keras.layers.Dense(100, activation='relu', kernel_initializer='HeNormal')) \n",
    "model.add(keras.layers.Dropout(0.3))\n",
    "model.add(keras.layers.Dense(50, activation='relu', kernel_initializer='HeNormal')) \n",
    "model.add(keras.layers.Dropout(0.3))\n",
    "model.add(keras.layers.Dense(5, activation='relu', kernel_initializer='HeNormal')) \n",
    "model.add(keras.layers.Dense(1, activation='linear'))\n",
    "\n",
    "# compile network\n",
    "model.compile(loss='mean_absolute_error', optimizer='adam')\n",
    "\n",
    "# train network\n",
    "history = model.fit(X_train_sc, y_train, epochs=15, batch_size=10, validation_split = 0.1)\n",
    "\n",
    "# print test RMSE\n",
    "y_pred = model.predict(X_test_sc)\n",
    "print(\"\\nRMSE:\", np.sqrt(mean_squared_error(y_test, y_pred)))\n",
    "\n",
    "# validation vs. epoch plot\n",
    "print(history.history.keys())\n",
    "plt.plot(history.history['loss'][1:])\n",
    "plt.plot(history.history['val_loss'])\n",
    "plt.title('model loss')\n",
    "plt.ylabel('loss')\n",
    "plt.xlabel('epoch')\n",
    "plt.legend(['train', 'val'], loc='upper left')\n",
    "plt.show()"
   ]
  },
  {
   "cell_type": "markdown",
   "id": "c22848a6",
   "metadata": {},
   "source": [
    "### Implementing Regression and Classification Simultaneously"
   ]
  },
  {
   "cell_type": "code",
   "execution_count": null,
   "id": "454c8087",
   "metadata": {},
   "outputs": [],
   "source": [
    "data = pd.read_csv('data/chemicals_dataset.csv')\n",
    "data.head()\n",
    "\n",
    "X = data.iloc[:,3:-2]\n",
    "y_cl = data.iloc[:,-2]\n",
    "y_reg = data.iloc[:,-1]\n",
    "\n",
    "X_train, X_test, y_train_cl, y_test_cl = train_test_split(X, y_cl, test_size=0.3, random_state=2)\n",
    "X_train, X_test, y_train_reg, y_test_reg = train_test_split(X, y_reg, test_size=0.3, random_state=2)\n",
    "\n",
    "\n",
    "y_train_cl = keras.utils.to_categorical(y_train_cl)[:,1:]\n",
    "\n",
    "print(X.head())\n",
    "print(y_cl.head())\n",
    "print(y_reg.head())"
   ]
  },
  {
   "cell_type": "code",
   "execution_count": null,
   "id": "ace6cd15",
   "metadata": {},
   "outputs": [],
   "source": [
    "# random seed\n",
    "set_random_seed(0)\n",
    "\n",
    "# create network\n",
    "inputs = keras.Input(shape=(9, ), name = \"Input_Layer\")\n",
    "hidden1 = keras.layers.Dense(20, activation = \"relu\", name = \"Hidden_Layer_1\")(inputs)\n",
    "hidden2 = keras.layers.Dense(10, activation = \"relu\", name = \"Hidden_Layer_2\")(hidden1)\n",
    "regression_output = keras.layers.Dense(1, activation = \"linear\", name = \"Regresion_Output\")(hidden2)\n",
    "classification_output = keras.layers.Dense(3, activation = 'softmax', name = \"Classification_Output\")(hidden2)\n",
    "\n",
    "model = keras.Model(inputs = inputs, outputs = [regression_output, classification_output])\n",
    "\n",
    "# compile network\n",
    "model.compile(loss = [\"mean_absolute_error\", \"categorical_crossentropy\"])\n",
    "\n",
    "# train network\n",
    "model.fit(X_train, [y_train_reg, y_train_cl], epochs = 5, batch_size = 10)\n",
    "\n",
    "# return RMSE and accuracy\n",
    "reg_pred, cl_pred = model.predict(X_test)\n",
    "cl_pred = np.argmax(cl_pred, axis=1) + 1\n",
    "print(\"RMSE:\", np.sqrt(mean_squared_error(y_test_reg, reg_pred)))\n",
    "print(\"Accuracy:\", accuracy_score(y_test_cl, cl_pred))"
   ]
  },
  {
   "cell_type": "code",
   "execution_count": null,
   "id": "23b37801",
   "metadata": {},
   "outputs": [],
   "source": [
    "from keras.utils import plot_model\n",
    "\n",
    "plot_model(model, show_shapes=True)"
   ]
  },
  {
   "cell_type": "markdown",
   "id": "2b5f0160",
   "metadata": {},
   "source": [
    "### Convolutional Neural Networks"
   ]
  },
  {
   "cell_type": "code",
   "execution_count": null,
   "id": "62cf1a91",
   "metadata": {},
   "outputs": [],
   "source": [
    "train_path = 'data/chest_xray/train'\n",
    "test_path = 'data/chest_xray/test'\n",
    "val_path = 'data/chest_xray/val'\n",
    "\n",
    "batch_size = 16\n",
    "\n",
    "img_height = 500\n",
    "img_weight = 500\n",
    "\n",
    "gen1 = ImageDataGenerator(rescale = 1/255, shear_range = 0.2, zoom_range = 0.2)\n",
    "gen2 = ImageDataGenerator(rescale = 1/255)"
   ]
  },
  {
   "cell_type": "code",
   "execution_count": null,
   "id": "5f07c36f",
   "metadata": {},
   "outputs": [],
   "source": [
    "train_gen = gen1.flow_from_directory(train_path, \n",
    "                                     target_size = (img_height, img_weight), \n",
    "                                     batch_size = batch_size,\n",
    "                                     color_mode = \"grayscale\",\n",
    "                                     class_mode = \"binary\",\n",
    "                                     shuffle = True)\n",
    "val_gen = gen1.flow_from_directory(val_path, \n",
    "                                   target_size = (img_height, img_weight), \n",
    "                                   batch_size = batch_size,\n",
    "                                   color_mode = \"grayscale\",\n",
    "                                   class_mode = \"binary\")\n",
    "test_gen = gen2.flow_from_directory(test_path, \n",
    "                                    target_size = (img_height, img_weight), \n",
    "                                    batch_size = batch_size,\n",
    "                                    color_mode = \"grayscale\",\n",
    "                                    class_mode = \"binary\")"
   ]
  },
  {
   "cell_type": "code",
   "execution_count": null,
   "id": "8ea8bc8d",
   "metadata": {},
   "outputs": [],
   "source": [
    "set_random_seed(0)\n",
    "\n",
    "model = keras.Sequential()\n",
    "model.add(keras.layers.InputLayer(input_shape=(img_height, img_weight, 1)))\n",
    "model.add(keras.layers.Conv2D(32, kernel_size=3, activation= 'relu'))\n",
    "model.add(keras.layers.MaxPooling2D(pool_size = 2))\n",
    "model.add(keras.layers.Conv2D(64, kernel_size=3, activation= 'relu'))\n",
    "model.add(keras.layers.MaxPooling2D(pool_size = 2))\n",
    "model.add(keras.layers.Conv2D(64, kernel_size=3, activation= 'relu'))\n",
    "model.add(keras.layers.MaxPooling2D(pool_size = 2))\n",
    "model.add(keras.layers.Conv2D(128, kernel_size=3, activation= 'relu'))\n",
    "model.add(keras.layers.MaxPooling2D(pool_size = 2))\n",
    "model.add(keras.layers.Conv2D(128, kernel_size=3, activation= 'relu'))\n",
    "model.add(keras.layers.MaxPooling2D(pool_size = 2))\n",
    "model.add(keras.layers.Conv2D(256, kernel_size=3, activation= 'relu'))\n",
    "model.add(keras.layers.MaxPooling2D(pool_size = 2))\n",
    "model.add(keras.layers.Flatten())\n",
    "# model.add(keras.layers.Dropout(rate = 0.3))\n",
    "# model.add(keras.layers.Dense(100, activation='relu'))\n",
    "model.add(keras.layers.Dropout(rate = 0.3))\n",
    "model.add(keras.layers.Dense(50, activation='relu'))\n",
    "model.add(keras.layers.Dense(1, activation= 'sigmoid'))\n",
    "\n",
    "model.compile(loss=\"binary_crossentropy\", metrics = \"accuracy\")\n",
    "early = keras.callbacks.EarlyStopping(monitor = \"val_loss\", patience = 5)\n",
    "model.fit(train_gen, epochs = 2, batch_size = 2000, validation_data = val_gen, callbacks = early)"
   ]
  },
  {
   "cell_type": "code",
   "execution_count": null,
   "id": "5a01029b",
   "metadata": {},
   "outputs": [],
   "source": [
    "set_random_seed(0)\n",
    "model.evaluate(test_gen)"
   ]
  },
  {
   "cell_type": "code",
   "execution_count": null,
   "id": "b0dda999",
   "metadata": {},
   "outputs": [],
   "source": [
    "heart_data = pd.read_csv('data/heartbeat_dataset.csv', header=None)\n",
    "#data=pd.DataFrame(data)\n",
    "\n",
    "# One heartbeat\n",
    "plt.plot(heart_data.iloc[1,:])\n",
    "plt.xlabel('time')\n",
    "plt.ylabel('Voltage')\n",
    "plt.plot()\n",
    "\n",
    "# Overall class distribution\n",
    "print(heart_data[187].value_counts())\n",
    "\n",
    "# Downsampling Class 0 instances to 8000\n",
    "class_other = heart_data[heart_data[187]!=0.0]\n",
    "class_0 = heart_data[heart_data[187]==0.0].sample(n = 8000, random_state=1)\n",
    "data_sampled = pd.concat([class_0, class_other])\n",
    "\n",
    "# The new class distribution.\n",
    "print(data_sampled[187].value_counts())\n",
    "\n",
    "# Separating the features and the labels into X and y variables.\n",
    "y = data_sampled[187]\n",
    "X = data_sampled.drop([187], axis=1)\n",
    "\n",
    "# Train-test split\n",
    "X_train, X_test, y_train, y_test = train_test_split(X, y, stratify=y,random_state=1, test_size=0.1)\n",
    "\n",
    "print(X_train.shape)\n",
    "print(X_test.shape)\n",
    "\n",
    "X_train = np.array(X_train)\n",
    "X_test = np.array(X_test)\n",
    "y_train_onehot = to_categorical(y_train)\n",
    "\n",
    "X_train_reshape = tf.reshape(X_train, [20774, 187, 1])\n",
    "X_test_reshape = tf.reshape(X_test, [2309, 187, 1])"
   ]
  },
  {
   "cell_type": "code",
   "execution_count": null,
   "id": "58399685",
   "metadata": {},
   "outputs": [],
   "source": [
    "set_random_seed(0)\n",
    "\n",
    "model = keras.Sequential()\n",
    "model.add(keras.layers.InputLayer(input_shape=(187, 1)))\n",
    "model.add(keras.layers.Conv1D(32, kernel_size=3, activation= 'relu'))\n",
    "model.add(keras.layers.Conv1D(64, kernel_size=3, activation= 'relu'))\n",
    "model.add(keras.layers.MaxPooling1D(pool_size = 2))\n",
    "model.add(keras.layers.Conv1D(64, kernel_size=3, activation= 'relu'))\n",
    "model.add(keras.layers.Conv1D(128, kernel_size=3, activation= 'relu'))\n",
    "model.add(keras.layers.MaxPooling1D(pool_size = 2))\n",
    "model.add(keras.layers.Conv1D(128, kernel_size=3, activation= 'relu'))\n",
    "model.add(keras.layers.Conv1D(256, kernel_size=3, activation= 'relu'))\n",
    "model.add(keras.layers.MaxPooling1D(pool_size = 2))\n",
    "model.add(keras.layers.Flatten())\n",
    "model.add(keras.layers.Dropout(rate = 0.3))\n",
    "model.add(keras.layers.Dense(500, activation='relu'))\n",
    "model.add(keras.layers.Dropout(rate = 0.3))\n",
    "model.add(keras.layers.Dense(100, activation='relu'))\n",
    "model.add(keras.layers.Dropout(rate = 0.3))\n",
    "model.add(keras.layers.Dense(50, activation='relu'))\n",
    "model.add(keras.layers.Dense(5, activation= 'softmax'))\n",
    "\n",
    "model.compile(loss=\"categorical_crossentropy\")\n",
    "early = keras.callbacks.EarlyStopping(monitor = \"val_loss\", patience = 5)\n",
    "history = model.fit(X_train_reshape, y_train_onehot, epochs = 50, batch_size = 1000, validation_split = 0.1, callbacks = early)"
   ]
  },
  {
   "cell_type": "code",
   "execution_count": null,
   "id": "02ceab99",
   "metadata": {},
   "outputs": [],
   "source": [
    "set_random_seed(0)\n",
    "\n",
    "y_pred = np.argmax(model.predict(X_test_reshape), axis=1)\n",
    "print(\"Test acc: \" + str(accuracy_score(y_test, y_pred)))\n",
    "\n",
    "print(\"The Confusion Matrix:\")\n",
    "print(confusion_matrix(y_test, y_pred))"
   ]
  },
  {
   "cell_type": "markdown",
   "id": "75946128",
   "metadata": {},
   "source": [
    "### Recurrent Neural Networks"
   ]
  },
  {
   "cell_type": "code",
   "execution_count": null,
   "id": "92f53b0a",
   "metadata": {},
   "outputs": [],
   "source": [
    "rock_dataset = pd.read_csv(\"data/rock.csv\", header=None) # class = 0\n",
    "scissors_dataset = pd.read_csv(\"data/scissors.csv\", header=None) # class = 1\n",
    "paper_dataset = pd.read_csv(\"data/paper.csv\", header=None) # class = 2\n",
    "ok_dataset = pd.read_csv(\"data/ok.csv\", header=None) # class = 3\n",
    "\n",
    "frames = [rock_dataset, scissors_dataset, paper_dataset, ok_dataset]\n",
    "dataset = pd.concat(frames)\n",
    "\n",
    "dataset_train = dataset.iloc[np.random.permutation(len(dataset))]\n",
    "dataset_train.reset_index(drop=True)\n",
    "\n",
    "y = np.array(dataset_train.iloc[:,-1])\n",
    "\n",
    "X = np.array(dataset_train.iloc[:,:-1])\n",
    "\n",
    "X_train, X_test, y_train, y_test= train_test_split(X, y, test_size=0.2, random_state = 42)\n",
    "\n",
    "X_train_reshape = tf.reshape(X_train, [9342, 8, 8])\n",
    "X_test_reshape = tf.reshape(X_test, [2336, 8, 8])\n",
    "\n",
    "y_train_onehot = to_categorical(y_train, num_classes = 4)"
   ]
  },
  {
   "cell_type": "code",
   "execution_count": null,
   "id": "5746f120",
   "metadata": {},
   "outputs": [],
   "source": [
    "set_random_seed(0)\n",
    "\n",
    "embedding_size=32\n",
    "\n",
    "model = keras.Sequential()\n",
    "model.add(keras.layers.InputLayer(input_shape=(8, 8,)))\n",
    "model.add(keras.layers.LSTM(200, activation = \"relu\", return_sequences=True))\n",
    "model.add(keras.layers.LSTM(100, activation = \"relu\", return_sequences=True))\n",
    "model.add(keras.layers.LSTM(50, activation = \"relu\", return_sequences = True))\n",
    "model.add(keras.layers.LSTM(20, activation = \"relu\"))\n",
    "model.add(keras.layers.Dense(10, activation = 'relu'))\n",
    "model.add(keras.layers.Dense(5, activation = 'relu'))\n",
    "model.add(keras.layers.Dense(4, activation = 'softmax'))\n",
    "          \n",
    "model.compile(optimizer = \"adam\", loss=\"categorical_crossentropy\")\n",
    "early = keras.callbacks.EarlyStopping(monitor = \"val_loss\", patience = 5)\n",
    "history = model.fit(X_train_reshape, y_train_onehot, epochs = 20, batch_size = 50, validation_split = 0.1, callbacks = early)"
   ]
  },
  {
   "cell_type": "code",
   "execution_count": null,
   "id": "a3af02e3",
   "metadata": {},
   "outputs": [],
   "source": [
    "set_random_seed(0)\n",
    "\n",
    "# accuracy and confusion matrix\n",
    "y_pred = np.argmax(model.predict(X_test_reshape), axis=1)\n",
    "print(\"Test accuracy: \" + str(accuracy_score(y_test, y_pred)))\n",
    "print(\"The Confusion Matrix:\")\n",
    "print(confusion_matrix(y_test, y_pred))\n",
    "\n",
    "# validation vs. epoch plot\n",
    "print(history.history.keys())\n",
    "plt.plot(history.history['loss'][1:])\n",
    "plt.plot(history.history['val_loss'])\n",
    "plt.title('model loss')\n",
    "plt.ylabel('loss')\n",
    "plt.xlabel('epoch')\n",
    "plt.legend(['train', 'val'], loc='upper left')\n",
    "plt.show()"
   ]
  }
 ],
 "metadata": {
  "kernelspec": {
   "display_name": "Python 3 (ipykernel)",
   "language": "python",
   "name": "python3"
  },
  "language_info": {
   "codemirror_mode": {
    "name": "ipython",
    "version": 3
   },
   "file_extension": ".py",
   "mimetype": "text/x-python",
   "name": "python",
   "nbconvert_exporter": "python",
   "pygments_lexer": "ipython3",
   "version": "3.9.12"
  }
 },
 "nbformat": 4,
 "nbformat_minor": 5
}
